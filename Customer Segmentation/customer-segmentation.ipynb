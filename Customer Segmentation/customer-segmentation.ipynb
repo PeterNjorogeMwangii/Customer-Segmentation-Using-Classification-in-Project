{
 "cells": [
  {
   "cell_type": "markdown",
   "metadata": {},
   "source": [
    "<font color='blue' size=\"+2\"> Customer Segmentation</font>\n"
   ]
  },
  {
   "cell_type": "code",
   "execution_count": 1,
   "metadata": {
    "_cell_guid": "b1076dfc-b9ad-4769-8c92-a6c4dae69d19",
    "_uuid": "8f2839f25d086af736a60e9eeb907d3b93b6e0e5",
    "execution": {
     "iopub.execute_input": "2024-05-19T14:06:50.300552Z",
     "iopub.status.busy": "2024-05-19T14:06:50.300098Z",
     "iopub.status.idle": "2024-05-19T14:06:51.460477Z",
     "shell.execute_reply": "2024-05-19T14:06:51.459314Z",
     "shell.execute_reply.started": "2024-05-19T14:06:50.300516Z"
    }
   },
   "outputs": [],
   "source": [
    "# Import the required libraries\n",
    "import numpy as np # linear algebra\n",
    "import pandas as pd # data processing, CSV file I/O (e.g. pd.read_csv)\n",
    "import matplotlib.pyplot as plt\n",
    "import seaborn as sns\n",
    "import warnings\n",
    "warnings.simplefilter(\"ignore\")\n"
   ]
  },
  {
   "cell_type": "code",
   "execution_count": 2,
   "metadata": {
    "execution": {
     "iopub.execute_input": "2024-05-19T14:06:51.465073Z",
     "iopub.status.busy": "2024-05-19T14:06:51.464418Z",
     "iopub.status.idle": "2024-05-19T14:06:51.515715Z",
     "shell.execute_reply": "2024-05-19T14:06:51.514817Z",
     "shell.execute_reply.started": "2024-05-19T14:06:51.465037Z"
    }
   },
   "outputs": [],
   "source": [
    "train=pd.read_csv(\"Train (1).csv\")\n",
    "test=pd.read_csv(\"Test (1).csv\")"
   ]
  },
  {
   "cell_type": "code",
   "execution_count": 3,
   "metadata": {
    "execution": {
     "iopub.execute_input": "2024-05-19T14:06:51.517844Z",
     "iopub.status.busy": "2024-05-19T14:06:51.51716Z",
     "iopub.status.idle": "2024-05-19T14:06:51.526169Z",
     "shell.execute_reply": "2024-05-19T14:06:51.525261Z",
     "shell.execute_reply.started": "2024-05-19T14:06:51.517809Z"
    }
   },
   "outputs": [],
   "source": [
    "data=pd.concat([train,test])"
   ]
  },
  {
   "cell_type": "code",
   "execution_count": 4,
   "metadata": {
    "execution": {
     "iopub.execute_input": "2024-05-19T14:06:51.530233Z",
     "iopub.status.busy": "2024-05-19T14:06:51.529587Z",
     "iopub.status.idle": "2024-05-19T14:06:51.561822Z",
     "shell.execute_reply": "2024-05-19T14:06:51.560334Z",
     "shell.execute_reply.started": "2024-05-19T14:06:51.530195Z"
    }
   },
   "outputs": [
    {
     "data": {
      "text/html": [
       "<div>\n",
       "<style scoped>\n",
       "    .dataframe tbody tr th:only-of-type {\n",
       "        vertical-align: middle;\n",
       "    }\n",
       "\n",
       "    .dataframe tbody tr th {\n",
       "        vertical-align: top;\n",
       "    }\n",
       "\n",
       "    .dataframe thead th {\n",
       "        text-align: right;\n",
       "    }\n",
       "</style>\n",
       "<table border=\"1\" class=\"dataframe\">\n",
       "  <thead>\n",
       "    <tr style=\"text-align: right;\">\n",
       "      <th></th>\n",
       "      <th>ID</th>\n",
       "      <th>Gender</th>\n",
       "      <th>Ever_Married</th>\n",
       "      <th>Age</th>\n",
       "      <th>Graduated</th>\n",
       "      <th>Profession</th>\n",
       "      <th>Work_Experience</th>\n",
       "      <th>Spending_Score</th>\n",
       "      <th>Family_Size</th>\n",
       "      <th>Var_1</th>\n",
       "      <th>Segmentation</th>\n",
       "    </tr>\n",
       "  </thead>\n",
       "  <tbody>\n",
       "    <tr>\n",
       "      <th>0</th>\n",
       "      <td>462809</td>\n",
       "      <td>Male</td>\n",
       "      <td>No</td>\n",
       "      <td>22</td>\n",
       "      <td>No</td>\n",
       "      <td>Healthcare</td>\n",
       "      <td>1.0</td>\n",
       "      <td>Low</td>\n",
       "      <td>4.0</td>\n",
       "      <td>Cat_4</td>\n",
       "      <td>D</td>\n",
       "    </tr>\n",
       "    <tr>\n",
       "      <th>1</th>\n",
       "      <td>462643</td>\n",
       "      <td>Female</td>\n",
       "      <td>Yes</td>\n",
       "      <td>38</td>\n",
       "      <td>Yes</td>\n",
       "      <td>Engineer</td>\n",
       "      <td>NaN</td>\n",
       "      <td>Average</td>\n",
       "      <td>3.0</td>\n",
       "      <td>Cat_4</td>\n",
       "      <td>A</td>\n",
       "    </tr>\n",
       "    <tr>\n",
       "      <th>2</th>\n",
       "      <td>466315</td>\n",
       "      <td>Female</td>\n",
       "      <td>Yes</td>\n",
       "      <td>67</td>\n",
       "      <td>Yes</td>\n",
       "      <td>Engineer</td>\n",
       "      <td>1.0</td>\n",
       "      <td>Low</td>\n",
       "      <td>1.0</td>\n",
       "      <td>Cat_6</td>\n",
       "      <td>B</td>\n",
       "    </tr>\n",
       "    <tr>\n",
       "      <th>3</th>\n",
       "      <td>461735</td>\n",
       "      <td>Male</td>\n",
       "      <td>Yes</td>\n",
       "      <td>67</td>\n",
       "      <td>Yes</td>\n",
       "      <td>Lawyer</td>\n",
       "      <td>0.0</td>\n",
       "      <td>High</td>\n",
       "      <td>2.0</td>\n",
       "      <td>Cat_6</td>\n",
       "      <td>B</td>\n",
       "    </tr>\n",
       "    <tr>\n",
       "      <th>4</th>\n",
       "      <td>462669</td>\n",
       "      <td>Female</td>\n",
       "      <td>Yes</td>\n",
       "      <td>40</td>\n",
       "      <td>Yes</td>\n",
       "      <td>Entertainment</td>\n",
       "      <td>NaN</td>\n",
       "      <td>High</td>\n",
       "      <td>6.0</td>\n",
       "      <td>Cat_6</td>\n",
       "      <td>A</td>\n",
       "    </tr>\n",
       "  </tbody>\n",
       "</table>\n",
       "</div>"
      ],
      "text/plain": [
       "       ID  Gender Ever_Married  Age Graduated     Profession  Work_Experience  \\\n",
       "0  462809    Male           No   22        No     Healthcare              1.0   \n",
       "1  462643  Female          Yes   38       Yes       Engineer              NaN   \n",
       "2  466315  Female          Yes   67       Yes       Engineer              1.0   \n",
       "3  461735    Male          Yes   67       Yes         Lawyer              0.0   \n",
       "4  462669  Female          Yes   40       Yes  Entertainment              NaN   \n",
       "\n",
       "  Spending_Score  Family_Size  Var_1 Segmentation  \n",
       "0            Low          4.0  Cat_4            D  \n",
       "1        Average          3.0  Cat_4            A  \n",
       "2            Low          1.0  Cat_6            B  \n",
       "3           High          2.0  Cat_6            B  \n",
       "4           High          6.0  Cat_6            A  "
      ]
     },
     "execution_count": 4,
     "metadata": {},
     "output_type": "execute_result"
    }
   ],
   "source": [
    "data.head()"
   ]
  },
  {
   "cell_type": "markdown",
   "metadata": {},
   "source": [
    "# **Data Understanding**"
   ]
  },
  {
   "cell_type": "code",
   "execution_count": 5,
   "metadata": {
    "execution": {
     "iopub.execute_input": "2024-05-19T14:06:51.563958Z",
     "iopub.status.busy": "2024-05-19T14:06:51.563573Z",
     "iopub.status.idle": "2024-05-19T14:06:51.594234Z",
     "shell.execute_reply": "2024-05-19T14:06:51.593083Z",
     "shell.execute_reply.started": "2024-05-19T14:06:51.563929Z"
    }
   },
   "outputs": [
    {
     "name": "stdout",
     "output_type": "stream",
     "text": [
      "<class 'pandas.core.frame.DataFrame'>\n",
      "Int64Index: 10695 entries, 0 to 2626\n",
      "Data columns (total 11 columns):\n",
      " #   Column           Non-Null Count  Dtype  \n",
      "---  ------           --------------  -----  \n",
      " 0   ID               10695 non-null  int64  \n",
      " 1   Gender           10695 non-null  object \n",
      " 2   Ever_Married     10505 non-null  object \n",
      " 3   Age              10695 non-null  int64  \n",
      " 4   Graduated        10593 non-null  object \n",
      " 5   Profession       10533 non-null  object \n",
      " 6   Work_Experience  9597 non-null   float64\n",
      " 7   Spending_Score   10695 non-null  object \n",
      " 8   Family_Size      10247 non-null  float64\n",
      " 9   Var_1            10587 non-null  object \n",
      " 10  Segmentation     10695 non-null  object \n",
      "dtypes: float64(2), int64(2), object(7)\n",
      "memory usage: 1002.7+ KB\n"
     ]
    }
   ],
   "source": [
    "data.info()"
   ]
  },
  {
   "cell_type": "code",
   "execution_count": 6,
   "metadata": {
    "execution": {
     "iopub.execute_input": "2024-05-19T14:06:51.595925Z",
     "iopub.status.busy": "2024-05-19T14:06:51.595563Z",
     "iopub.status.idle": "2024-05-19T14:06:51.60294Z",
     "shell.execute_reply": "2024-05-19T14:06:51.601718Z",
     "shell.execute_reply.started": "2024-05-19T14:06:51.595895Z"
    }
   },
   "outputs": [
    {
     "data": {
      "text/plain": [
       "Index(['ID', 'Gender', 'Ever_Married', 'Age', 'Graduated', 'Profession',\n",
       "       'Work_Experience', 'Spending_Score', 'Family_Size', 'Var_1',\n",
       "       'Segmentation'],\n",
       "      dtype='object')"
      ]
     },
     "execution_count": 6,
     "metadata": {},
     "output_type": "execute_result"
    }
   ],
   "source": [
    "data.columns"
   ]
  },
  {
   "cell_type": "markdown",
   "metadata": {},
   "source": [
    "**i am renaming this column here for better understanding**"
   ]
  },
  {
   "cell_type": "code",
   "execution_count": 7,
   "metadata": {
    "execution": {
     "iopub.execute_input": "2024-05-19T14:06:51.605875Z",
     "iopub.status.busy": "2024-05-19T14:06:51.604619Z",
     "iopub.status.idle": "2024-05-19T14:06:51.6209Z",
     "shell.execute_reply": "2024-05-19T14:06:51.619347Z",
     "shell.execute_reply.started": "2024-05-19T14:06:51.60582Z"
    }
   },
   "outputs": [],
   "source": [
    "data=data.rename(columns={\"Var_1\":\"Category\"})"
   ]
  },
  {
   "cell_type": "markdown",
   "metadata": {},
   "source": [
    "**i am dropping id because it is not important for my task**"
   ]
  },
  {
   "cell_type": "code",
   "execution_count": 8,
   "metadata": {
    "execution": {
     "iopub.execute_input": "2024-05-19T14:06:51.623943Z",
     "iopub.status.busy": "2024-05-19T14:06:51.622486Z",
     "iopub.status.idle": "2024-05-19T14:06:51.635179Z",
     "shell.execute_reply": "2024-05-19T14:06:51.633993Z",
     "shell.execute_reply.started": "2024-05-19T14:06:51.623902Z"
    }
   },
   "outputs": [],
   "source": [
    "data=data.drop(columns=\"ID\")"
   ]
  },
  {
   "cell_type": "code",
   "execution_count": 9,
   "metadata": {
    "execution": {
     "iopub.execute_input": "2024-05-19T14:06:51.637605Z",
     "iopub.status.busy": "2024-05-19T14:06:51.637112Z",
     "iopub.status.idle": "2024-05-19T14:06:51.648609Z",
     "shell.execute_reply": "2024-05-19T14:06:51.647802Z",
     "shell.execute_reply.started": "2024-05-19T14:06:51.637562Z"
    }
   },
   "outputs": [
    {
     "data": {
      "text/plain": [
       "array([22, 38, 67, 40, 56, 32, 33, 61, 55, 26, 19, 70, 58, 41, 31, 79, 49,\n",
       "       18, 36, 35, 45, 42, 83, 27, 28, 47, 29, 57, 76, 25, 72, 48, 74, 59,\n",
       "       39, 51, 30, 63, 52, 60, 68, 86, 50, 43, 80, 37, 46, 69, 78, 71, 82,\n",
       "       23, 20, 85, 21, 53, 62, 75, 65, 89, 66, 73, 77, 87, 84, 81, 88],\n",
       "      dtype=int64)"
      ]
     },
     "execution_count": 9,
     "metadata": {},
     "output_type": "execute_result"
    }
   ],
   "source": [
    "data[\"Age\"].unique()"
   ]
  },
  {
   "cell_type": "code",
   "execution_count": 10,
   "metadata": {
    "execution": {
     "iopub.execute_input": "2024-05-19T14:06:51.654183Z",
     "iopub.status.busy": "2024-05-19T14:06:51.653449Z",
     "iopub.status.idle": "2024-05-19T14:06:51.668844Z",
     "shell.execute_reply": "2024-05-19T14:06:51.667751Z",
     "shell.execute_reply.started": "2024-05-19T14:06:51.654148Z"
    }
   },
   "outputs": [
    {
     "data": {
      "text/plain": [
       "629"
      ]
     },
     "execution_count": 10,
     "metadata": {},
     "output_type": "execute_result"
    }
   ],
   "source": [
    "data.duplicated().sum()"
   ]
  },
  {
   "cell_type": "code",
   "execution_count": 11,
   "metadata": {
    "execution": {
     "iopub.execute_input": "2024-05-19T14:06:51.67086Z",
     "iopub.status.busy": "2024-05-19T14:06:51.670356Z",
     "iopub.status.idle": "2024-05-19T14:06:51.994566Z",
     "shell.execute_reply": "2024-05-19T14:06:51.993293Z",
     "shell.execute_reply.started": "2024-05-19T14:06:51.670826Z"
    }
   },
   "outputs": [
    {
     "data": {
      "image/png": "[encoded data removed]",
      "text/plain": [
       "<Figure size 640x480 with 1 Axes>"
      ]
     },
     "metadata": {},
     "output_type": "display_data"
    }
   ],
   "source": [
    "sns.countplot(x='Profession',data=data)\n",
    "plt.title(\"Distributions of Profession\")\n",
    "plt.xticks\n",
    "plt.show()"
   ]
  },
  {
   "cell_type": "code",
   "execution_count": 12,
   "metadata": {
    "execution": {
     "iopub.execute_input": "2024-05-19T14:06:51.99651Z",
     "iopub.status.busy": "2024-05-19T14:06:51.996079Z",
     "iopub.status.idle": "2024-05-19T14:06:52.346148Z",
     "shell.execute_reply": "2024-05-19T14:06:52.344869Z",
     "shell.execute_reply.started": "2024-05-19T14:06:51.996473Z"
    }
   },
   "outputs": [
    {
     "data": {
      "image/png": "[encoded data removed]",
      "text/plain": [
       "<Figure size 1000x600 with 1 Axes>"
      ]
     },
     "metadata": {},
     "output_type": "display_data"
    }
   ],
   "source": [
    "plt.figure(figsize=(10,6))\n",
    "sns.histplot(x='Age',data=data,bins=15)\n",
    "plt.title(\"Age Distributions\")\n",
    "plt.show()"
   ]
  },
  {
   "cell_type": "markdown",
   "metadata": {},
   "source": [
    "# **Data Preprocessing**"
   ]
  },
  {
   "cell_type": "code",
   "execution_count": 13,
   "metadata": {
    "execution": {
     "iopub.execute_input": "2024-05-19T14:06:52.348978Z",
     "iopub.status.busy": "2024-05-19T14:06:52.347868Z",
     "iopub.status.idle": "2024-05-19T14:06:52.363624Z",
     "shell.execute_reply": "2024-05-19T14:06:52.361897Z",
     "shell.execute_reply.started": "2024-05-19T14:06:52.348935Z"
    }
   },
   "outputs": [
    {
     "data": {
      "text/plain": [
       "Gender                0\n",
       "Ever_Married        190\n",
       "Age                   0\n",
       "Graduated           102\n",
       "Profession          162\n",
       "Work_Experience    1098\n",
       "Spending_Score        0\n",
       "Family_Size         448\n",
       "Category            108\n",
       "Segmentation          0\n",
       "dtype: int64"
      ]
     },
     "execution_count": 13,
     "metadata": {},
     "output_type": "execute_result"
    }
   ],
   "source": [
    "data.isnull().sum()"
   ]
  },
  {
   "cell_type": "code",
   "execution_count": 14,
   "metadata": {
    "execution": {
     "iopub.execute_input": "2024-05-19T14:06:52.366524Z",
     "iopub.status.busy": "2024-05-19T14:06:52.365444Z",
     "iopub.status.idle": "2024-05-19T14:06:52.37624Z",
     "shell.execute_reply": "2024-05-19T14:06:52.374812Z",
     "shell.execute_reply.started": "2024-05-19T14:06:52.366478Z"
    }
   },
   "outputs": [],
   "source": [
    "data[\"Ever_Married\"].fillna(data[\"Ever_Married\"].mode()[0],inplace=True)"
   ]
  },
  {
   "cell_type": "code",
   "execution_count": 15,
   "metadata": {
    "execution": {
     "iopub.execute_input": "2024-05-19T14:06:52.378732Z",
     "iopub.status.busy": "2024-05-19T14:06:52.377717Z",
     "iopub.status.idle": "2024-05-19T14:06:52.390953Z",
     "shell.execute_reply": "2024-05-19T14:06:52.389684Z",
     "shell.execute_reply.started": "2024-05-19T14:06:52.378678Z"
    }
   },
   "outputs": [],
   "source": [
    "data[\"Graduated\"].fillna(data[\"Graduated\"].mode()[0],inplace=True)"
   ]
  },
  {
   "cell_type": "code",
   "execution_count": 16,
   "metadata": {
    "execution": {
     "iopub.execute_input": "2024-05-19T14:06:52.393806Z",
     "iopub.status.busy": "2024-05-19T14:06:52.392631Z",
     "iopub.status.idle": "2024-05-19T14:06:52.403962Z",
     "shell.execute_reply": "2024-05-19T14:06:52.402328Z",
     "shell.execute_reply.started": "2024-05-19T14:06:52.393756Z"
    }
   },
   "outputs": [],
   "source": [
    "data[\"Profession\"].fillna(data[\"Profession\"].mode()[0],inplace=True)"
   ]
  },
  {
   "cell_type": "code",
   "execution_count": 17,
   "metadata": {
    "execution": {
     "iopub.execute_input": "2024-05-19T14:06:52.406025Z",
     "iopub.status.busy": "2024-05-19T14:06:52.405679Z",
     "iopub.status.idle": "2024-05-19T14:06:52.415085Z",
     "shell.execute_reply": "2024-05-19T14:06:52.413614Z",
     "shell.execute_reply.started": "2024-05-19T14:06:52.405996Z"
    }
   },
   "outputs": [],
   "source": [
    "data[\"Work_Experience\"].fillna(data[\"Work_Experience\"].mode()[0],inplace=True)"
   ]
  },
  {
   "cell_type": "code",
   "execution_count": 18,
   "metadata": {
    "execution": {
     "iopub.execute_input": "2024-05-19T14:06:52.418091Z",
     "iopub.status.busy": "2024-05-19T14:06:52.416517Z",
     "iopub.status.idle": "2024-05-19T14:06:52.426811Z",
     "shell.execute_reply": "2024-05-19T14:06:52.425495Z",
     "shell.execute_reply.started": "2024-05-19T14:06:52.418041Z"
    }
   },
   "outputs": [],
   "source": [
    "data[\"Family_Size\"].fillna(data[\"Family_Size\"].mode()[0],inplace=True)"
   ]
  },
  {
   "cell_type": "code",
   "execution_count": 19,
   "metadata": {
    "execution": {
     "iopub.execute_input": "2024-05-19T14:06:52.429149Z",
     "iopub.status.busy": "2024-05-19T14:06:52.428711Z",
     "iopub.status.idle": "2024-05-19T14:06:52.441556Z",
     "shell.execute_reply": "2024-05-19T14:06:52.438962Z",
     "shell.execute_reply.started": "2024-05-19T14:06:52.429113Z"
    }
   },
   "outputs": [],
   "source": [
    "data[\"Category\"].fillna(data[\"Category\"].mode()[0],inplace=True)"
   ]
  },
  {
   "cell_type": "code",
   "execution_count": 20,
   "metadata": {
    "execution": {
     "iopub.execute_input": "2024-05-19T14:06:52.44475Z",
     "iopub.status.busy": "2024-05-19T14:06:52.443969Z",
     "iopub.status.idle": "2024-05-19T14:06:52.45858Z",
     "shell.execute_reply": "2024-05-19T14:06:52.457016Z",
     "shell.execute_reply.started": "2024-05-19T14:06:52.444716Z"
    }
   },
   "outputs": [
    {
     "data": {
      "text/plain": [
       "Gender             0\n",
       "Ever_Married       0\n",
       "Age                0\n",
       "Graduated          0\n",
       "Profession         0\n",
       "Work_Experience    0\n",
       "Spending_Score     0\n",
       "Family_Size        0\n",
       "Category           0\n",
       "Segmentation       0\n",
       "dtype: int64"
      ]
     },
     "execution_count": 20,
     "metadata": {},
     "output_type": "execute_result"
    }
   ],
   "source": [
    "data.isnull().sum()"
   ]
  },
  {
   "cell_type": "markdown",
   "metadata": {},
   "source": [
    "**identifying outliers**"
   ]
  },
  {
   "cell_type": "code",
   "execution_count": 21,
   "metadata": {
    "execution": {
     "iopub.execute_input": "2024-05-19T14:06:52.460807Z",
     "iopub.status.busy": "2024-05-19T14:06:52.460164Z",
     "iopub.status.idle": "2024-05-19T14:06:52.700128Z",
     "shell.execute_reply": "2024-05-19T14:06:52.698947Z",
     "shell.execute_reply.started": "2024-05-19T14:06:52.460773Z"
    }
   },
   "outputs": [
    {
     "data": {
      "text/plain": [
       "<Axes: xlabel='Age'>"
      ]
     },
     "execution_count": 21,
     "metadata": {},
     "output_type": "execute_result"
    },
    {
     "data": {
      "image/png": "[encoded data removed]",
      "text/plain": [
       "<Figure size 640x480 with 1 Axes>"
      ]
     },
     "metadata": {},
     "output_type": "display_data"
    }
   ],
   "source": [
    "sns.boxplot(x=data[\"Age\"])"
   ]
  },
  {
   "cell_type": "code",
   "execution_count": 22,
   "metadata": {
    "execution": {
     "iopub.execute_input": "2024-05-19T14:06:52.70214Z",
     "iopub.status.busy": "2024-05-19T14:06:52.701542Z",
     "iopub.status.idle": "2024-05-19T14:06:52.71329Z",
     "shell.execute_reply": "2024-05-19T14:06:52.71215Z",
     "shell.execute_reply.started": "2024-05-19T14:06:52.702086Z"
    }
   },
   "outputs": [
    {
     "name": "stdout",
     "output_type": "stream",
     "text": [
      "q1: 30.0\n",
      "q3: 53.0\n",
      "IQR: 23.0\n",
      "ll: -4.5\n",
      "ul: 87.5\n"
     ]
    }
   ],
   "source": [
    "# calculating Q1\n",
    "q1=data[\"Age\"].quantile(0.25)\n",
    "print(\"q1:\",q1)\n",
    "# calculating q3\n",
    "q3=data[\"Age\"].quantile(0.75)\n",
    "print(\"q3:\",q3)\n",
    "# calculating IQR\n",
    "IQR=q3-q1\n",
    "print(\"IQR:\",IQR)\n",
    "#calculating lowerlimit\n",
    "ll=q1-(IQR*1.5)\n",
    "print(\"ll:\",ll)\n",
    "# calculating upper limit\n",
    "ul=q3+(IQR*1.5)\n",
    "print(\"ul:\",ul)"
   ]
  },
  {
   "cell_type": "code",
   "execution_count": 23,
   "metadata": {
    "execution": {
     "iopub.execute_input": "2024-05-19T14:06:52.715849Z",
     "iopub.status.busy": "2024-05-19T14:06:52.714989Z",
     "iopub.status.idle": "2024-05-19T14:06:52.741846Z",
     "shell.execute_reply": "2024-05-19T14:06:52.740167Z",
     "shell.execute_reply.started": "2024-05-19T14:06:52.715803Z"
    }
   },
   "outputs": [
    {
     "data": {
      "text/html": [
       "<div>\n",
       "<style scoped>\n",
       "    .dataframe tbody tr th:only-of-type {\n",
       "        vertical-align: middle;\n",
       "    }\n",
       "\n",
       "    .dataframe tbody tr th {\n",
       "        vertical-align: top;\n",
       "    }\n",
       "\n",
       "    .dataframe thead th {\n",
       "        text-align: right;\n",
       "    }\n",
       "</style>\n",
       "<table border=\"1\" class=\"dataframe\">\n",
       "  <thead>\n",
       "    <tr style=\"text-align: right;\">\n",
       "      <th></th>\n",
       "      <th>Gender</th>\n",
       "      <th>Ever_Married</th>\n",
       "      <th>Age</th>\n",
       "      <th>Graduated</th>\n",
       "      <th>Profession</th>\n",
       "      <th>Work_Experience</th>\n",
       "      <th>Spending_Score</th>\n",
       "      <th>Family_Size</th>\n",
       "      <th>Category</th>\n",
       "      <th>Segmentation</th>\n",
       "    </tr>\n",
       "  </thead>\n",
       "  <tbody>\n",
       "    <tr>\n",
       "      <th>321</th>\n",
       "      <td>Male</td>\n",
       "      <td>Yes</td>\n",
       "      <td>89</td>\n",
       "      <td>Yes</td>\n",
       "      <td>Lawyer</td>\n",
       "      <td>13.0</td>\n",
       "      <td>Low</td>\n",
       "      <td>1.0</td>\n",
       "      <td>Cat_6</td>\n",
       "      <td>A</td>\n",
       "    </tr>\n",
       "    <tr>\n",
       "      <th>395</th>\n",
       "      <td>Female</td>\n",
       "      <td>Yes</td>\n",
       "      <td>89</td>\n",
       "      <td>No</td>\n",
       "      <td>Lawyer</td>\n",
       "      <td>3.0</td>\n",
       "      <td>High</td>\n",
       "      <td>1.0</td>\n",
       "      <td>Cat_6</td>\n",
       "      <td>D</td>\n",
       "    </tr>\n",
       "    <tr>\n",
       "      <th>699</th>\n",
       "      <td>Male</td>\n",
       "      <td>Yes</td>\n",
       "      <td>88</td>\n",
       "      <td>No</td>\n",
       "      <td>Executive</td>\n",
       "      <td>0.0</td>\n",
       "      <td>Low</td>\n",
       "      <td>1.0</td>\n",
       "      <td>Cat_6</td>\n",
       "      <td>A</td>\n",
       "    </tr>\n",
       "    <tr>\n",
       "      <th>753</th>\n",
       "      <td>Female</td>\n",
       "      <td>Yes</td>\n",
       "      <td>88</td>\n",
       "      <td>No</td>\n",
       "      <td>Lawyer</td>\n",
       "      <td>0.0</td>\n",
       "      <td>High</td>\n",
       "      <td>2.0</td>\n",
       "      <td>Cat_6</td>\n",
       "      <td>B</td>\n",
       "    </tr>\n",
       "    <tr>\n",
       "      <th>943</th>\n",
       "      <td>Male</td>\n",
       "      <td>Yes</td>\n",
       "      <td>88</td>\n",
       "      <td>Yes</td>\n",
       "      <td>Lawyer</td>\n",
       "      <td>1.0</td>\n",
       "      <td>Low</td>\n",
       "      <td>2.0</td>\n",
       "      <td>Cat_6</td>\n",
       "      <td>B</td>\n",
       "    </tr>\n",
       "    <tr>\n",
       "      <th>...</th>\n",
       "      <td>...</td>\n",
       "      <td>...</td>\n",
       "      <td>...</td>\n",
       "      <td>...</td>\n",
       "      <td>...</td>\n",
       "      <td>...</td>\n",
       "      <td>...</td>\n",
       "      <td>...</td>\n",
       "      <td>...</td>\n",
       "      <td>...</td>\n",
       "    </tr>\n",
       "    <tr>\n",
       "      <th>2394</th>\n",
       "      <td>Male</td>\n",
       "      <td>Yes</td>\n",
       "      <td>88</td>\n",
       "      <td>Yes</td>\n",
       "      <td>Artist</td>\n",
       "      <td>1.0</td>\n",
       "      <td>Low</td>\n",
       "      <td>2.0</td>\n",
       "      <td>Cat_6</td>\n",
       "      <td>C</td>\n",
       "    </tr>\n",
       "    <tr>\n",
       "      <th>2437</th>\n",
       "      <td>Male</td>\n",
       "      <td>Yes</td>\n",
       "      <td>89</td>\n",
       "      <td>Yes</td>\n",
       "      <td>Lawyer</td>\n",
       "      <td>0.0</td>\n",
       "      <td>Low</td>\n",
       "      <td>2.0</td>\n",
       "      <td>Cat_6</td>\n",
       "      <td>D</td>\n",
       "    </tr>\n",
       "    <tr>\n",
       "      <th>2498</th>\n",
       "      <td>Male</td>\n",
       "      <td>Yes</td>\n",
       "      <td>89</td>\n",
       "      <td>Yes</td>\n",
       "      <td>Lawyer</td>\n",
       "      <td>4.0</td>\n",
       "      <td>Low</td>\n",
       "      <td>1.0</td>\n",
       "      <td>Cat_6</td>\n",
       "      <td>A</td>\n",
       "    </tr>\n",
       "    <tr>\n",
       "      <th>2548</th>\n",
       "      <td>Male</td>\n",
       "      <td>Yes</td>\n",
       "      <td>89</td>\n",
       "      <td>Yes</td>\n",
       "      <td>Lawyer</td>\n",
       "      <td>7.0</td>\n",
       "      <td>High</td>\n",
       "      <td>2.0</td>\n",
       "      <td>Cat_6</td>\n",
       "      <td>C</td>\n",
       "    </tr>\n",
       "    <tr>\n",
       "      <th>2558</th>\n",
       "      <td>Male</td>\n",
       "      <td>Yes</td>\n",
       "      <td>88</td>\n",
       "      <td>Yes</td>\n",
       "      <td>Lawyer</td>\n",
       "      <td>3.0</td>\n",
       "      <td>High</td>\n",
       "      <td>2.0</td>\n",
       "      <td>Cat_6</td>\n",
       "      <td>D</td>\n",
       "    </tr>\n",
       "  </tbody>\n",
       "</table>\n",
       "<p>90 rows × 10 columns</p>\n",
       "</div>"
      ],
      "text/plain": [
       "      Gender Ever_Married  Age Graduated Profession  Work_Experience  \\\n",
       "321     Male          Yes   89       Yes     Lawyer             13.0   \n",
       "395   Female          Yes   89        No     Lawyer              3.0   \n",
       "699     Male          Yes   88        No  Executive              0.0   \n",
       "753   Female          Yes   88        No     Lawyer              0.0   \n",
       "943     Male          Yes   88       Yes     Lawyer              1.0   \n",
       "...      ...          ...  ...       ...        ...              ...   \n",
       "2394    Male          Yes   88       Yes     Artist              1.0   \n",
       "2437    Male          Yes   89       Yes     Lawyer              0.0   \n",
       "2498    Male          Yes   89       Yes     Lawyer              4.0   \n",
       "2548    Male          Yes   89       Yes     Lawyer              7.0   \n",
       "2558    Male          Yes   88       Yes     Lawyer              3.0   \n",
       "\n",
       "     Spending_Score  Family_Size Category Segmentation  \n",
       "321             Low          1.0    Cat_6            A  \n",
       "395            High          1.0    Cat_6            D  \n",
       "699             Low          1.0    Cat_6            A  \n",
       "753            High          2.0    Cat_6            B  \n",
       "943             Low          2.0    Cat_6            B  \n",
       "...             ...          ...      ...          ...  \n",
       "2394            Low          2.0    Cat_6            C  \n",
       "2437            Low          2.0    Cat_6            D  \n",
       "2498            Low          1.0    Cat_6            A  \n",
       "2548           High          2.0    Cat_6            C  \n",
       "2558           High          2.0    Cat_6            D  \n",
       "\n",
       "[90 rows x 10 columns]"
      ]
     },
     "execution_count": 23,
     "metadata": {},
     "output_type": "execute_result"
    }
   ],
   "source": [
    "data[(data[\"Age\"]<ll) | (data[\"Age\"]>ul)]"
   ]
  },
  {
   "cell_type": "code",
   "execution_count": 24,
   "metadata": {
    "execution": {
     "iopub.execute_input": "2024-05-19T14:06:52.74419Z",
     "iopub.status.busy": "2024-05-19T14:06:52.743767Z",
     "iopub.status.idle": "2024-05-19T14:06:52.754521Z",
     "shell.execute_reply": "2024-05-19T14:06:52.753247Z",
     "shell.execute_reply.started": "2024-05-19T14:06:52.744151Z"
    }
   },
   "outputs": [
    {
     "data": {
      "text/plain": [
       "Male      5841\n",
       "Female    4854\n",
       "Name: Gender, dtype: int64"
      ]
     },
     "execution_count": 24,
     "metadata": {},
     "output_type": "execute_result"
    }
   ],
   "source": [
    "data[\"Gender\"].value_counts()"
   ]
  },
  {
   "cell_type": "code",
   "execution_count": 25,
   "metadata": {
    "execution": {
     "iopub.execute_input": "2024-05-19T14:06:52.756902Z",
     "iopub.status.busy": "2024-05-19T14:06:52.756149Z",
     "iopub.status.idle": "2024-05-19T14:06:52.767808Z",
     "shell.execute_reply": "2024-05-19T14:06:52.766517Z",
     "shell.execute_reply.started": "2024-05-19T14:06:52.756869Z"
    }
   },
   "outputs": [
    {
     "data": {
      "text/plain": [
       "Yes    6353\n",
       "No     4342\n",
       "Name: Ever_Married, dtype: int64"
      ]
     },
     "execution_count": 25,
     "metadata": {},
     "output_type": "execute_result"
    }
   ],
   "source": [
    "data[\"Ever_Married\"].value_counts()"
   ]
  },
  {
   "cell_type": "code",
   "execution_count": 26,
   "metadata": {
    "execution": {
     "iopub.execute_input": "2024-05-19T14:06:52.76958Z",
     "iopub.status.busy": "2024-05-19T14:06:52.769223Z",
     "iopub.status.idle": "2024-05-19T14:06:52.780813Z",
     "shell.execute_reply": "2024-05-19T14:06:52.779485Z",
     "shell.execute_reply.started": "2024-05-19T14:06:52.769553Z"
    }
   },
   "outputs": [
    {
     "data": {
      "text/plain": [
       "Yes    6672\n",
       "No     4023\n",
       "Name: Graduated, dtype: int64"
      ]
     },
     "execution_count": 26,
     "metadata": {},
     "output_type": "execute_result"
    }
   ],
   "source": [
    "data[\"Graduated\"].value_counts()"
   ]
  },
  {
   "cell_type": "code",
   "execution_count": 27,
   "metadata": {
    "execution": {
     "iopub.execute_input": "2024-05-19T14:06:52.78284Z",
     "iopub.status.busy": "2024-05-19T14:06:52.782389Z",
     "iopub.status.idle": "2024-05-19T14:06:52.798801Z",
     "shell.execute_reply": "2024-05-19T14:06:52.797692Z",
     "shell.execute_reply.started": "2024-05-19T14:06:52.782808Z"
    }
   },
   "outputs": [
    {
     "data": {
      "text/plain": [
       "count    10695.000000\n",
       "mean        43.511828\n",
       "std         16.774158\n",
       "min         18.000000\n",
       "25%         30.000000\n",
       "50%         41.000000\n",
       "75%         53.000000\n",
       "max         89.000000\n",
       "Name: Age, dtype: float64"
      ]
     },
     "execution_count": 27,
     "metadata": {},
     "output_type": "execute_result"
    }
   ],
   "source": [
    "data[\"Age\"].describe()"
   ]
  },
  {
   "cell_type": "code",
   "execution_count": 28,
   "metadata": {
    "execution": {
     "iopub.execute_input": "2024-05-19T14:06:52.808685Z",
     "iopub.status.busy": "2024-05-19T14:06:52.808263Z",
     "iopub.status.idle": "2024-05-19T14:06:52.819185Z",
     "shell.execute_reply": "2024-05-19T14:06:52.817855Z",
     "shell.execute_reply.started": "2024-05-19T14:06:52.808607Z"
    }
   },
   "outputs": [
    {
     "data": {
      "text/plain": [
       "Artist           3480\n",
       "Healthcare       1750\n",
       "Entertainment    1250\n",
       "Engineer          935\n",
       "Doctor            930\n",
       "Lawyer            844\n",
       "Executive         775\n",
       "Marketing         403\n",
       "Homemaker         328\n",
       "Name: Profession, dtype: int64"
      ]
     },
     "execution_count": 28,
     "metadata": {},
     "output_type": "execute_result"
    }
   ],
   "source": [
    "data[\"Profession\"].value_counts()"
   ]
  },
  {
   "cell_type": "code",
   "execution_count": 29,
   "metadata": {
    "execution": {
     "iopub.execute_input": "2024-05-19T14:06:52.821505Z",
     "iopub.status.busy": "2024-05-19T14:06:52.821047Z",
     "iopub.status.idle": "2024-05-19T14:06:52.837347Z",
     "shell.execute_reply": "2024-05-19T14:06:52.835539Z",
     "shell.execute_reply.started": "2024-05-19T14:06:52.821471Z"
    }
   },
   "outputs": [
    {
     "data": {
      "text/plain": [
       "1.0     4225\n",
       "0.0     3087\n",
       "9.0      613\n",
       "8.0      612\n",
       "2.0      373\n",
       "4.0      346\n",
       "3.0      337\n",
       "5.0      270\n",
       "6.0      265\n",
       "7.0      256\n",
       "14.0      66\n",
       "10.0      64\n",
       "11.0      64\n",
       "12.0      60\n",
       "13.0      57\n",
       "Name: Work_Experience, dtype: int64"
      ]
     },
     "execution_count": 29,
     "metadata": {},
     "output_type": "execute_result"
    }
   ],
   "source": [
    "data[\"Work_Experience\"].value_counts()"
   ]
  },
  {
   "cell_type": "code",
   "execution_count": 30,
   "metadata": {
    "execution": {
     "iopub.execute_input": "2024-05-19T14:06:52.839439Z",
     "iopub.status.busy": "2024-05-19T14:06:52.839034Z",
     "iopub.status.idle": "2024-05-19T14:06:52.850444Z",
     "shell.execute_reply": "2024-05-19T14:06:52.849347Z",
     "shell.execute_reply.started": "2024-05-19T14:06:52.83941Z"
    }
   },
   "outputs": [
    {
     "data": {
      "text/plain": [
       "Low        6494\n",
       "Average    2599\n",
       "High       1602\n",
       "Name: Spending_Score, dtype: int64"
      ]
     },
     "execution_count": 30,
     "metadata": {},
     "output_type": "execute_result"
    }
   ],
   "source": [
    "data[\"Spending_Score\"].value_counts()"
   ]
  },
  {
   "cell_type": "code",
   "execution_count": 31,
   "metadata": {
    "execution": {
     "iopub.execute_input": "2024-05-19T14:06:52.852178Z",
     "iopub.status.busy": "2024-05-19T14:06:52.851856Z",
     "iopub.status.idle": "2024-05-19T14:06:52.8623Z",
     "shell.execute_reply": "2024-05-19T14:06:52.861174Z",
     "shell.execute_reply.started": "2024-05-19T14:06:52.852151Z"
    }
   },
   "outputs": [
    {
     "data": {
      "text/plain": [
       "2.0    3606\n",
       "1.0    1965\n",
       "3.0    1952\n",
       "4.0    1823\n",
       "5.0     812\n",
       "6.0     290\n",
       "7.0     122\n",
       "8.0      65\n",
       "9.0      60\n",
       "Name: Family_Size, dtype: int64"
      ]
     },
     "execution_count": 31,
     "metadata": {},
     "output_type": "execute_result"
    }
   ],
   "source": [
    "data[\"Family_Size\"].value_counts()"
   ]
  },
  {
   "cell_type": "code",
   "execution_count": 32,
   "metadata": {
    "execution": {
     "iopub.execute_input": "2024-05-19T14:06:52.866035Z",
     "iopub.status.busy": "2024-05-19T14:06:52.863908Z",
     "iopub.status.idle": "2024-05-19T14:06:52.878015Z",
     "shell.execute_reply": "2024-05-19T14:06:52.876491Z",
     "shell.execute_reply.started": "2024-05-19T14:06:52.865948Z"
    }
   },
   "outputs": [
    {
     "data": {
      "text/plain": [
       "Cat_6    7018\n",
       "Cat_4    1475\n",
       "Cat_3    1089\n",
       "Cat_2     563\n",
       "Cat_7     269\n",
       "Cat_1     167\n",
       "Cat_5     114\n",
       "Name: Category, dtype: int64"
      ]
     },
     "execution_count": 32,
     "metadata": {},
     "output_type": "execute_result"
    }
   ],
   "source": [
    "data[\"Category\"].value_counts()"
   ]
  },
  {
   "cell_type": "code",
   "execution_count": 33,
   "metadata": {
    "execution": {
     "iopub.execute_input": "2024-05-19T14:06:52.880815Z",
     "iopub.status.busy": "2024-05-19T14:06:52.879626Z",
     "iopub.status.idle": "2024-05-19T14:06:52.89271Z",
     "shell.execute_reply": "2024-05-19T14:06:52.891358Z",
     "shell.execute_reply.started": "2024-05-19T14:06:52.880771Z"
    }
   },
   "outputs": [
    {
     "data": {
      "text/plain": [
       "D    3027\n",
       "A    2818\n",
       "C    2442\n",
       "B    2408\n",
       "Name: Segmentation, dtype: int64"
      ]
     },
     "execution_count": 33,
     "metadata": {},
     "output_type": "execute_result"
    }
   ],
   "source": [
    "data[\"Segmentation\"].value_counts()"
   ]
  },
  {
   "cell_type": "markdown",
   "metadata": {},
   "source": [
    "**Encoding**"
   ]
  },
  {
   "cell_type": "code",
   "execution_count": 34,
   "metadata": {
    "execution": {
     "iopub.execute_input": "2024-05-19T14:06:52.895133Z",
     "iopub.status.busy": "2024-05-19T14:06:52.894608Z",
     "iopub.status.idle": "2024-05-19T14:06:52.908502Z",
     "shell.execute_reply": "2024-05-19T14:06:52.907543Z",
     "shell.execute_reply.started": "2024-05-19T14:06:52.895094Z"
    }
   },
   "outputs": [],
   "source": [
    "data[\"Gender\"].replace({\"Male\":[1],\"Female\":[0]},inplace=True)"
   ]
  },
  {
   "cell_type": "code",
   "execution_count": 35,
   "metadata": {
    "execution": {
     "iopub.execute_input": "2024-05-19T14:06:52.910136Z",
     "iopub.status.busy": "2024-05-19T14:06:52.909833Z",
     "iopub.status.idle": "2024-05-19T14:06:52.926853Z",
     "shell.execute_reply": "2024-05-19T14:06:52.92574Z",
     "shell.execute_reply.started": "2024-05-19T14:06:52.91011Z"
    }
   },
   "outputs": [],
   "source": [
    "data[\"Ever_Married\"].replace({\"No\":0,\"Yes\":1},inplace=True)"
   ]
  },
  {
   "cell_type": "code",
   "execution_count": 36,
   "metadata": {
    "execution": {
     "iopub.execute_input": "2024-05-19T14:06:52.929006Z",
     "iopub.status.busy": "2024-05-19T14:06:52.928262Z",
     "iopub.status.idle": "2024-05-19T14:06:52.941774Z",
     "shell.execute_reply": "2024-05-19T14:06:52.940425Z",
     "shell.execute_reply.started": "2024-05-19T14:06:52.928971Z"
    }
   },
   "outputs": [],
   "source": [
    "data[\"Graduated\"].replace({\"No\":0,\"Yes\":1},inplace=True)"
   ]
  },
  {
   "cell_type": "code",
   "execution_count": 37,
   "metadata": {
    "execution": {
     "iopub.execute_input": "2024-05-19T14:06:52.945352Z",
     "iopub.status.busy": "2024-05-19T14:06:52.943263Z",
     "iopub.status.idle": "2024-05-19T14:06:52.954526Z",
     "shell.execute_reply": "2024-05-19T14:06:52.953702Z",
     "shell.execute_reply.started": "2024-05-19T14:06:52.945306Z"
    }
   },
   "outputs": [
    {
     "data": {
      "text/plain": [
       "array(['Healthcare', 'Engineer', 'Lawyer', 'Entertainment', 'Artist',\n",
       "       'Executive', 'Doctor', 'Homemaker', 'Marketing'], dtype=object)"
      ]
     },
     "execution_count": 37,
     "metadata": {},
     "output_type": "execute_result"
    }
   ],
   "source": [
    "data[\"Profession\"].unique()"
   ]
  },
  {
   "cell_type": "code",
   "execution_count": 38,
   "metadata": {
    "execution": {
     "iopub.execute_input": "2024-05-19T14:06:52.956777Z",
     "iopub.status.busy": "2024-05-19T14:06:52.955572Z",
     "iopub.status.idle": "2024-05-19T14:06:52.974477Z",
     "shell.execute_reply": "2024-05-19T14:06:52.973296Z",
     "shell.execute_reply.started": "2024-05-19T14:06:52.956727Z"
    }
   },
   "outputs": [],
   "source": [
    "data[\"Profession\"].replace({\"Healthcare\":0,\"Engineer\":1,'Lawyer':2, 'Entertainment':3, 'Artist':4,\n",
    "       'Executive':5, 'Doctor':6, 'Homemaker':7, 'Marketing':8},inplace=True)"
   ]
  },
  {
   "cell_type": "code",
   "execution_count": 39,
   "metadata": {
    "execution": {
     "iopub.execute_input": "2024-05-19T14:06:52.976214Z",
     "iopub.status.busy": "2024-05-19T14:06:52.975504Z",
     "iopub.status.idle": "2024-05-19T14:06:52.983668Z",
     "shell.execute_reply": "2024-05-19T14:06:52.982378Z",
     "shell.execute_reply.started": "2024-05-19T14:06:52.976185Z"
    }
   },
   "outputs": [
    {
     "data": {
      "text/plain": [
       "array(['Low', 'Average', 'High'], dtype=object)"
      ]
     },
     "execution_count": 39,
     "metadata": {},
     "output_type": "execute_result"
    }
   ],
   "source": [
    "data[\"Spending_Score\"].unique()"
   ]
  },
  {
   "cell_type": "code",
   "execution_count": 40,
   "metadata": {
    "execution": {
     "iopub.execute_input": "2024-05-19T14:06:52.985845Z",
     "iopub.status.busy": "2024-05-19T14:06:52.984989Z",
     "iopub.status.idle": "2024-05-19T14:06:52.996874Z",
     "shell.execute_reply": "2024-05-19T14:06:52.995724Z",
     "shell.execute_reply.started": "2024-05-19T14:06:52.985816Z"
    }
   },
   "outputs": [],
   "source": [
    "data[\"Spending_Score\"].replace({\"Low\":0,\"Average\":1,\"High\":2},inplace=True)"
   ]
  },
  {
   "cell_type": "code",
   "execution_count": 41,
   "metadata": {
    "execution": {
     "iopub.execute_input": "2024-05-19T14:06:52.998725Z",
     "iopub.status.busy": "2024-05-19T14:06:52.998336Z",
     "iopub.status.idle": "2024-05-19T14:06:53.008131Z",
     "shell.execute_reply": "2024-05-19T14:06:53.006952Z",
     "shell.execute_reply.started": "2024-05-19T14:06:52.998689Z"
    }
   },
   "outputs": [
    {
     "data": {
      "text/plain": [
       "array(['Cat_4', 'Cat_6', 'Cat_7', 'Cat_3', 'Cat_1', 'Cat_2', 'Cat_5'],\n",
       "      dtype=object)"
      ]
     },
     "execution_count": 41,
     "metadata": {},
     "output_type": "execute_result"
    }
   ],
   "source": [
    "data[\"Category\"].unique()"
   ]
  },
  {
   "cell_type": "code",
   "execution_count": 42,
   "metadata": {
    "execution": {
     "iopub.execute_input": "2024-05-19T14:06:53.010562Z",
     "iopub.status.busy": "2024-05-19T14:06:53.009938Z",
     "iopub.status.idle": "2024-05-19T14:06:53.025436Z",
     "shell.execute_reply": "2024-05-19T14:06:53.024243Z",
     "shell.execute_reply.started": "2024-05-19T14:06:53.010523Z"
    }
   },
   "outputs": [],
   "source": [
    "data[\"Category\"].replace({'Cat_4':3, 'Cat_6':5, 'Cat_7':6, 'Cat_3':2, 'Cat_1':0, 'Cat_2':1, 'Cat_5':4},inplace=True)"
   ]
  },
  {
   "cell_type": "code",
   "execution_count": 43,
   "metadata": {
    "execution": {
     "iopub.execute_input": "2024-05-19T14:06:53.027328Z",
     "iopub.status.busy": "2024-05-19T14:06:53.026902Z",
     "iopub.status.idle": "2024-05-19T14:06:53.03725Z",
     "shell.execute_reply": "2024-05-19T14:06:53.035935Z",
     "shell.execute_reply.started": "2024-05-19T14:06:53.027291Z"
    }
   },
   "outputs": [
    {
     "data": {
      "text/plain": [
       "array(['D', 'A', 'B', 'C'], dtype=object)"
      ]
     },
     "execution_count": 43,
     "metadata": {},
     "output_type": "execute_result"
    }
   ],
   "source": [
    "data[\"Segmentation\"].unique()"
   ]
  },
  {
   "cell_type": "code",
   "execution_count": 44,
   "metadata": {
    "execution": {
     "iopub.execute_input": "2024-05-19T14:06:53.039916Z",
     "iopub.status.busy": "2024-05-19T14:06:53.039174Z",
     "iopub.status.idle": "2024-05-19T14:06:53.05578Z",
     "shell.execute_reply": "2024-05-19T14:06:53.05474Z",
     "shell.execute_reply.started": "2024-05-19T14:06:53.039883Z"
    }
   },
   "outputs": [],
   "source": [
    "data[\"Segmentation\"].replace({\"A\":0,\"B\":1,\"C\":2,\"D\":3},inplace=True)"
   ]
  },
  {
   "cell_type": "code",
   "execution_count": 45,
   "metadata": {
    "execution": {
     "iopub.execute_input": "2024-05-19T14:06:53.058076Z",
     "iopub.status.busy": "2024-05-19T14:06:53.057178Z",
     "iopub.status.idle": "2024-05-19T14:06:53.697256Z",
     "shell.execute_reply": "2024-05-19T14:06:53.695871Z",
     "shell.execute_reply.started": "2024-05-19T14:06:53.058044Z"
    }
   },
   "outputs": [
    {
     "data": {
      "image/png": "[encoded data removed]",
      "text/plain": [
       "<Figure size 1000x800 with 2 Axes>"
      ]
     },
     "metadata": {},
     "output_type": "display_data"
    }
   ],
   "source": [
    "plt.figure(figsize=(10, 8))\n",
    "sns.heatmap(data.corr(),annot=True)\n",
    "plt.show()"
   ]
  },
  {
   "cell_type": "code",
   "execution_count": 46,
   "metadata": {
    "execution": {
     "iopub.execute_input": "2024-05-19T14:06:53.699177Z",
     "iopub.status.busy": "2024-05-19T14:06:53.698779Z",
     "iopub.status.idle": "2024-05-19T14:06:53.708745Z",
     "shell.execute_reply": "2024-05-19T14:06:53.707479Z",
     "shell.execute_reply.started": "2024-05-19T14:06:53.699144Z"
    }
   },
   "outputs": [],
   "source": [
    "data.dropna(inplace=True)"
   ]
  },
  {
   "cell_type": "markdown",
   "metadata": {},
   "source": [
    "**Defining X and Y**"
   ]
  },
  {
   "cell_type": "code",
   "execution_count": 47,
   "metadata": {
    "execution": {
     "iopub.execute_input": "2024-05-19T14:06:53.710902Z",
     "iopub.status.busy": "2024-05-19T14:06:53.710186Z",
     "iopub.status.idle": "2024-05-19T14:06:53.718313Z",
     "shell.execute_reply": "2024-05-19T14:06:53.717432Z",
     "shell.execute_reply.started": "2024-05-19T14:06:53.710867Z"
    }
   },
   "outputs": [],
   "source": [
    "x=data[['Gender', 'Ever_Married', 'Age', 'Graduated', 'Profession',\n",
    "       'Work_Experience', 'Spending_Score', 'Family_Size', 'Category']]\n",
    "y=data[\"Segmentation\"]"
   ]
  },
  {
   "cell_type": "code",
   "execution_count": 48,
   "metadata": {
    "execution": {
     "iopub.execute_input": "2024-05-19T14:06:53.720852Z",
     "iopub.status.busy": "2024-05-19T14:06:53.719761Z",
     "iopub.status.idle": "2024-05-19T14:06:53.742882Z",
     "shell.execute_reply": "2024-05-19T14:06:53.7413Z",
     "shell.execute_reply.started": "2024-05-19T14:06:53.72081Z"
    }
   },
   "outputs": [
    {
     "data": {
      "text/html": [
       "<div>\n",
       "<style scoped>\n",
       "    .dataframe tbody tr th:only-of-type {\n",
       "        vertical-align: middle;\n",
       "    }\n",
       "\n",
       "    .dataframe tbody tr th {\n",
       "        vertical-align: top;\n",
       "    }\n",
       "\n",
       "    .dataframe thead th {\n",
       "        text-align: right;\n",
       "    }\n",
       "</style>\n",
       "<table border=\"1\" class=\"dataframe\">\n",
       "  <thead>\n",
       "    <tr style=\"text-align: right;\">\n",
       "      <th></th>\n",
       "      <th>Gender</th>\n",
       "      <th>Ever_Married</th>\n",
       "      <th>Age</th>\n",
       "      <th>Graduated</th>\n",
       "      <th>Profession</th>\n",
       "      <th>Work_Experience</th>\n",
       "      <th>Spending_Score</th>\n",
       "      <th>Family_Size</th>\n",
       "      <th>Category</th>\n",
       "    </tr>\n",
       "  </thead>\n",
       "  <tbody>\n",
       "    <tr>\n",
       "      <th>0</th>\n",
       "      <td>1</td>\n",
       "      <td>0</td>\n",
       "      <td>22</td>\n",
       "      <td>0</td>\n",
       "      <td>0</td>\n",
       "      <td>1.0</td>\n",
       "      <td>0</td>\n",
       "      <td>4.0</td>\n",
       "      <td>3</td>\n",
       "    </tr>\n",
       "    <tr>\n",
       "      <th>1</th>\n",
       "      <td>0</td>\n",
       "      <td>1</td>\n",
       "      <td>38</td>\n",
       "      <td>1</td>\n",
       "      <td>1</td>\n",
       "      <td>1.0</td>\n",
       "      <td>1</td>\n",
       "      <td>3.0</td>\n",
       "      <td>3</td>\n",
       "    </tr>\n",
       "    <tr>\n",
       "      <th>2</th>\n",
       "      <td>0</td>\n",
       "      <td>1</td>\n",
       "      <td>67</td>\n",
       "      <td>1</td>\n",
       "      <td>1</td>\n",
       "      <td>1.0</td>\n",
       "      <td>0</td>\n",
       "      <td>1.0</td>\n",
       "      <td>5</td>\n",
       "    </tr>\n",
       "    <tr>\n",
       "      <th>3</th>\n",
       "      <td>1</td>\n",
       "      <td>1</td>\n",
       "      <td>67</td>\n",
       "      <td>1</td>\n",
       "      <td>2</td>\n",
       "      <td>0.0</td>\n",
       "      <td>2</td>\n",
       "      <td>2.0</td>\n",
       "      <td>5</td>\n",
       "    </tr>\n",
       "    <tr>\n",
       "      <th>4</th>\n",
       "      <td>0</td>\n",
       "      <td>1</td>\n",
       "      <td>40</td>\n",
       "      <td>1</td>\n",
       "      <td>3</td>\n",
       "      <td>1.0</td>\n",
       "      <td>2</td>\n",
       "      <td>6.0</td>\n",
       "      <td>5</td>\n",
       "    </tr>\n",
       "    <tr>\n",
       "      <th>...</th>\n",
       "      <td>...</td>\n",
       "      <td>...</td>\n",
       "      <td>...</td>\n",
       "      <td>...</td>\n",
       "      <td>...</td>\n",
       "      <td>...</td>\n",
       "      <td>...</td>\n",
       "      <td>...</td>\n",
       "      <td>...</td>\n",
       "    </tr>\n",
       "    <tr>\n",
       "      <th>2622</th>\n",
       "      <td>1</td>\n",
       "      <td>0</td>\n",
       "      <td>29</td>\n",
       "      <td>0</td>\n",
       "      <td>0</td>\n",
       "      <td>9.0</td>\n",
       "      <td>0</td>\n",
       "      <td>4.0</td>\n",
       "      <td>5</td>\n",
       "    </tr>\n",
       "    <tr>\n",
       "      <th>2623</th>\n",
       "      <td>0</td>\n",
       "      <td>0</td>\n",
       "      <td>35</td>\n",
       "      <td>1</td>\n",
       "      <td>6</td>\n",
       "      <td>1.0</td>\n",
       "      <td>0</td>\n",
       "      <td>1.0</td>\n",
       "      <td>5</td>\n",
       "    </tr>\n",
       "    <tr>\n",
       "      <th>2624</th>\n",
       "      <td>0</td>\n",
       "      <td>0</td>\n",
       "      <td>53</td>\n",
       "      <td>1</td>\n",
       "      <td>3</td>\n",
       "      <td>1.0</td>\n",
       "      <td>0</td>\n",
       "      <td>2.0</td>\n",
       "      <td>5</td>\n",
       "    </tr>\n",
       "    <tr>\n",
       "      <th>2625</th>\n",
       "      <td>1</td>\n",
       "      <td>1</td>\n",
       "      <td>47</td>\n",
       "      <td>1</td>\n",
       "      <td>5</td>\n",
       "      <td>1.0</td>\n",
       "      <td>2</td>\n",
       "      <td>5.0</td>\n",
       "      <td>3</td>\n",
       "    </tr>\n",
       "    <tr>\n",
       "      <th>2626</th>\n",
       "      <td>0</td>\n",
       "      <td>0</td>\n",
       "      <td>43</td>\n",
       "      <td>1</td>\n",
       "      <td>0</td>\n",
       "      <td>9.0</td>\n",
       "      <td>0</td>\n",
       "      <td>3.0</td>\n",
       "      <td>6</td>\n",
       "    </tr>\n",
       "  </tbody>\n",
       "</table>\n",
       "<p>10695 rows × 9 columns</p>\n",
       "</div>"
      ],
      "text/plain": [
       "      Gender  Ever_Married  Age  Graduated  Profession  Work_Experience  \\\n",
       "0          1             0   22          0           0              1.0   \n",
       "1          0             1   38          1           1              1.0   \n",
       "2          0             1   67          1           1              1.0   \n",
       "3          1             1   67          1           2              0.0   \n",
       "4          0             1   40          1           3              1.0   \n",
       "...      ...           ...  ...        ...         ...              ...   \n",
       "2622       1             0   29          0           0              9.0   \n",
       "2623       0             0   35          1           6              1.0   \n",
       "2624       0             0   53          1           3              1.0   \n",
       "2625       1             1   47          1           5              1.0   \n",
       "2626       0             0   43          1           0              9.0   \n",
       "\n",
       "      Spending_Score  Family_Size  Category  \n",
       "0                  0          4.0         3  \n",
       "1                  1          3.0         3  \n",
       "2                  0          1.0         5  \n",
       "3                  2          2.0         5  \n",
       "4                  2          6.0         5  \n",
       "...              ...          ...       ...  \n",
       "2622               0          4.0         5  \n",
       "2623               0          1.0         5  \n",
       "2624               0          2.0         5  \n",
       "2625               2          5.0         3  \n",
       "2626               0          3.0         6  \n",
       "\n",
       "[10695 rows x 9 columns]"
      ]
     },
     "execution_count": 48,
     "metadata": {},
     "output_type": "execute_result"
    }
   ],
   "source": [
    "x"
   ]
  },
  {
   "cell_type": "code",
   "execution_count": 49,
   "metadata": {
    "execution": {
     "iopub.execute_input": "2024-05-19T14:06:53.744327Z",
     "iopub.status.busy": "2024-05-19T14:06:53.744029Z",
     "iopub.status.idle": "2024-05-19T14:06:53.75736Z",
     "shell.execute_reply": "2024-05-19T14:06:53.755992Z",
     "shell.execute_reply.started": "2024-05-19T14:06:53.744302Z"
    }
   },
   "outputs": [
    {
     "data": {
      "text/plain": [
       "0       3\n",
       "1       0\n",
       "2       1\n",
       "3       1\n",
       "4       0\n",
       "       ..\n",
       "2622    1\n",
       "2623    0\n",
       "2624    2\n",
       "2625    2\n",
       "2626    0\n",
       "Name: Segmentation, Length: 10695, dtype: int64"
      ]
     },
     "execution_count": 49,
     "metadata": {},
     "output_type": "execute_result"
    }
   ],
   "source": [
    "y"
   ]
  },
  {
   "cell_type": "markdown",
   "metadata": {},
   "source": [
    "**Finding Best Random State**"
   ]
  },
  {
   "cell_type": "code",
   "execution_count": 50,
   "metadata": {
    "execution": {
     "iopub.execute_input": "2024-05-19T14:06:53.759071Z",
     "iopub.status.busy": "2024-05-19T14:06:53.758725Z",
     "iopub.status.idle": "2024-05-19T14:07:48.357438Z",
     "shell.execute_reply": "2024-05-19T14:07:48.356337Z",
     "shell.execute_reply.started": "2024-05-19T14:06:53.759045Z"
    }
   },
   "outputs": [
    {
     "name": "stdout",
     "output_type": "stream",
     "text": [
      "best random state 42\n"
     ]
    }
   ],
   "source": [
    "from sklearn.linear_model import LogisticRegression\n",
    "train=[]\n",
    "test=[]\n",
    "cv=[]\n",
    "for i in range(1,50):\n",
    "    from sklearn.model_selection import train_test_split\n",
    "    x_train,x_test,y_train,y_test=train_test_split(x,y,test_size=0.2,random_state=i)\n",
    "    l=LogisticRegression()\n",
    "    l.fit(x_train,y_train)\n",
    "    ŷ_train=l.predict(x_train)\n",
    "    ŷ_test=l.predict(x_test)\n",
    "    from sklearn.metrics import accuracy_score\n",
    "    train.append(accuracy_score(y_train,ŷ_train))\n",
    "    test.append(accuracy_score(y_test,ŷ_test))\n",
    "    from sklearn.model_selection import cross_val_score\n",
    "    cv.append(cross_val_score(l,x_train,y_train,cv=5,scoring=\"accuracy\").mean())\n",
    "df1=pd.DataFrame({\"train\":train,\"test\":test,\"cv\":cv})\n",
    "df2=df1[(abs(df1[\"train\"]-df1[\"test\"])<=0.05) & (abs(df1[\"test\"]-df1[\"cv\"])<=0.05)]\n",
    "df3=df2[df2[\"cv\"]==df2[\"cv\"].max()].index.to_list()[0]\n",
    "print(\"best random state\",df3)\n",
    "    "
   ]
  },
  {
   "cell_type": "markdown",
   "metadata": {},
   "source": [
    "**Train_Test_split**"
   ]
  },
  {
   "cell_type": "code",
   "execution_count": 51,
   "metadata": {
    "execution": {
     "iopub.status.busy": "2024-05-19T14:11:48.787325Z",
     "iopub.status.idle": "2024-05-19T14:11:48.787886Z",
     "shell.execute_reply": "2024-05-19T14:11:48.78762Z",
     "shell.execute_reply.started": "2024-05-19T14:11:48.787597Z"
    }
   },
   "outputs": [],
   "source": [
    "x_train,x_test,y_train,y_test=train_test_split(x,y,test_size=0.2,random_state=42)"
   ]
  },
  {
   "cell_type": "markdown",
   "metadata": {},
   "source": [
    "# Logistic Regression"
   ]
  },
  {
   "cell_type": "markdown",
   "metadata": {},
   "source": [
    "**scaling**"
   ]
  },
  {
   "cell_type": "code",
   "execution_count": 52,
   "metadata": {
    "execution": {
     "iopub.execute_input": "2024-05-19T14:07:48.37037Z",
     "iopub.status.busy": "2024-05-19T14:07:48.369866Z",
     "iopub.status.idle": "2024-05-19T14:07:48.393373Z",
     "shell.execute_reply": "2024-05-19T14:07:48.39224Z",
     "shell.execute_reply.started": "2024-05-19T14:07:48.37033Z"
    }
   },
   "outputs": [],
   "source": [
    "from sklearn.preprocessing import StandardScaler\n",
    "scaler=StandardScaler()\n",
    "x_train=scaler.fit_transform(x_train)\n",
    "x_test=scaler.transform(x_test)"
   ]
  },
  {
   "cell_type": "markdown",
   "metadata": {},
   "source": [
    "**modelling**"
   ]
  },
  {
   "cell_type": "code",
   "execution_count": 53,
   "metadata": {
    "execution": {
     "iopub.execute_input": "2024-05-19T14:07:48.39689Z",
     "iopub.status.busy": "2024-05-19T14:07:48.395085Z",
     "iopub.status.idle": "2024-05-19T14:07:49.007585Z",
     "shell.execute_reply": "2024-05-19T14:07:49.006712Z",
     "shell.execute_reply.started": "2024-05-19T14:07:48.396851Z"
    }
   },
   "outputs": [
    {
     "name": "stdout",
     "output_type": "stream",
     "text": [
      "test_accuracy 0.38756428237494156\n",
      "test_accuracy 0.3777466105656849\n",
      "cross_validation 0.42134149838592505\n"
     ]
    }
   ],
   "source": [
    "lr=LogisticRegression()\n",
    "lr.fit(x,y)\n",
    "ŷ_train=lr.predict(x_train)\n",
    "ŷ_test=lr.predict(x_test)\n",
    "print(\"test_accuracy\",accuracy_score(y_train,ŷ_train))\n",
    "print(\"test_accuracy\",accuracy_score(y_test,ŷ_test))\n",
    "print(\"cross_validation\",cross_val_score(lr,x_train,y_train,cv=5).mean())"
   ]
  },
  {
   "cell_type": "markdown",
   "metadata": {},
   "source": [
    "**confusion matrix**"
   ]
  },
  {
   "cell_type": "code",
   "execution_count": 54,
   "metadata": {
    "execution": {
     "iopub.execute_input": "2024-05-19T14:07:49.00956Z",
     "iopub.status.busy": "2024-05-19T14:07:49.008983Z",
     "iopub.status.idle": "2024-05-19T14:07:49.018914Z",
     "shell.execute_reply": "2024-05-19T14:07:49.017579Z",
     "shell.execute_reply.started": "2024-05-19T14:07:49.00953Z"
    }
   },
   "outputs": [
    {
     "data": {
      "text/plain": [
       "array([[ 26,  53, 115, 390],\n",
       "       [ 31,  49, 166, 244],\n",
       "       [ 13,  61, 230, 168],\n",
       "       [ 18,  23,  49, 503]], dtype=int64)"
      ]
     },
     "execution_count": 54,
     "metadata": {},
     "output_type": "execute_result"
    }
   ],
   "source": [
    "from sklearn.metrics import confusion_matrix,ConfusionMatrixDisplay\n",
    "cm=confusion_matrix(y_test,ŷ_test)\n",
    "cm"
   ]
  },
  {
   "cell_type": "code",
   "execution_count": 55,
   "metadata": {
    "execution": {
     "iopub.execute_input": "2024-05-19T14:07:49.020922Z",
     "iopub.status.busy": "2024-05-19T14:07:49.020479Z",
     "iopub.status.idle": "2024-05-19T14:07:49.31426Z",
     "shell.execute_reply": "2024-05-19T14:07:49.313181Z",
     "shell.execute_reply.started": "2024-05-19T14:07:49.020891Z"
    }
   },
   "outputs": [
    {
     "data": {
      "image/png": "[encoded data removed]",
      "text/plain": [
       "<Figure size 640x480 with 2 Axes>"
      ]
     },
     "metadata": {},
     "output_type": "display_data"
    }
   ],
   "source": [
    "ConfusionMatrixDisplay(cm).plot()\n",
    "plt.show()"
   ]
  },
  {
   "cell_type": "markdown",
   "metadata": {},
   "source": [
    "**classification report**"
   ]
  },
  {
   "cell_type": "code",
   "execution_count": 56,
   "metadata": {
    "execution": {
     "iopub.execute_input": "2024-05-19T14:07:49.316268Z",
     "iopub.status.busy": "2024-05-19T14:07:49.315792Z",
     "iopub.status.idle": "2024-05-19T14:07:49.334942Z",
     "shell.execute_reply": "2024-05-19T14:07:49.333576Z",
     "shell.execute_reply.started": "2024-05-19T14:07:49.316229Z"
    }
   },
   "outputs": [
    {
     "name": "stdout",
     "output_type": "stream",
     "text": [
      "              precision    recall  f1-score   support\n",
      "\n",
      "           0       0.30      0.04      0.08       584\n",
      "           1       0.26      0.10      0.14       490\n",
      "           2       0.41      0.49      0.45       472\n",
      "           3       0.39      0.85      0.53       593\n",
      "\n",
      "    accuracy                           0.38      2139\n",
      "   macro avg       0.34      0.37      0.30      2139\n",
      "weighted avg       0.34      0.38      0.30      2139\n",
      "\n"
     ]
    }
   ],
   "source": [
    "from sklearn.metrics import classification_report\n",
    "print(classification_report(y_test,ŷ_test))"
   ]
  },
  {
   "cell_type": "markdown",
   "metadata": {},
   "source": [
    "# K-NN"
   ]
  },
  {
   "cell_type": "markdown",
   "metadata": {},
   "source": [
    "**hyper parametre tuning**"
   ]
  },
  {
   "cell_type": "code",
   "execution_count": 58,
   "metadata": {
    "execution": {
     "iopub.execute_input": "2024-05-19T14:07:49.336804Z",
     "iopub.status.busy": "2024-05-19T14:07:49.336376Z",
     "iopub.status.idle": "2024-05-19T14:08:36.454223Z",
     "shell.execute_reply": "2024-05-19T14:08:36.452926Z",
     "shell.execute_reply.started": "2024-05-19T14:07:49.336776Z"
    }
   },
   "outputs": [
    {
     "data": {
      "text/plain": [
       "{'n_neighbors': 46}"
      ]
     },
     "execution_count": 58,
     "metadata": {},
     "output_type": "execute_result"
    }
   ],
   "source": [
    "from sklearn.neighbors import KNeighborsClassifier\n",
    "estimator=KNeighborsClassifier()\n",
    "param_grid={\"n_neighbors\":list(range(1,50))}\n",
    "from sklearn.model_selection import GridSearchCV\n",
    "cv_classifier=GridSearchCV(estimator,param_grid,cv=5,scoring=\"accuracy\")\n",
    "cv_classifier.fit(x_train,y_train)\n",
    "cv_classifier.best_params_"
   ]
  },
  {
   "cell_type": "markdown",
   "metadata": {},
   "source": [
    "**modelling**"
   ]
  },
  {
   "cell_type": "code",
   "execution_count": 59,
   "metadata": {
    "execution": {
     "iopub.execute_input": "2024-05-19T14:32:43.861422Z",
     "iopub.status.busy": "2024-05-19T14:32:43.861048Z",
     "iopub.status.idle": "2024-05-19T14:32:46.267548Z",
     "shell.execute_reply": "2024-05-19T14:32:46.266453Z",
     "shell.execute_reply.started": "2024-05-19T14:32:43.861391Z"
    }
   },
   "outputs": [
    {
     "name": "stdout",
     "output_type": "stream",
     "text": [
      "train_accuracy 0.48118279569892475\n",
      "test_accuracy 0.4488078541374474\n",
      "cross_validation 0.4351566152407667\n"
     ]
    }
   ],
   "source": [
    "from sklearn.neighbors import KNeighborsClassifier\n",
    "knn=KNeighborsClassifier(n_neighbors=39)\n",
    "knn.fit(x_train,y_train)\n",
    "\n",
    "# assigning y predict predict\n",
    "ŷ_train=knn.predict(x_train)\n",
    "ŷ_test=knn.predict(x_test)\n",
    "\n",
    "# accuracy\n",
    "from sklearn.metrics import accuracy_score\n",
    "print(\"train_accuracy\",accuracy_score(y_train,ŷ_train))\n",
    "print(\"test_accuracy\",accuracy_score(y_test,ŷ_test))\n",
    "\n",
    "from sklearn.model_selection import cross_val_score\n",
    "print(\"cross_validation\",cross_val_score(knn,x,y,cv=5).mean())"
   ]
  },
  {
   "cell_type": "markdown",
   "metadata": {},
   "source": [
    "**confusion matrix**"
   ]
  },
  {
   "cell_type": "code",
   "execution_count": 60,
   "metadata": {
    "execution": {
     "iopub.execute_input": "2024-05-19T14:08:39.154796Z",
     "iopub.status.busy": "2024-05-19T14:08:39.154308Z",
     "iopub.status.idle": "2024-05-19T14:08:39.167323Z",
     "shell.execute_reply": "2024-05-19T14:08:39.166014Z",
     "shell.execute_reply.started": "2024-05-19T14:08:39.154756Z"
    }
   },
   "outputs": [
    {
     "data": {
      "text/plain": [
       "array([[239, 115, 106, 124],\n",
       "       [154, 116, 150,  70],\n",
       "       [ 78,  79, 255,  60],\n",
       "       [156,  44,  43, 350]], dtype=int64)"
      ]
     },
     "execution_count": 60,
     "metadata": {},
     "output_type": "execute_result"
    }
   ],
   "source": [
    "cm=confusion_matrix(y_test,ŷ_test)\n",
    "cm"
   ]
  },
  {
   "cell_type": "markdown",
   "metadata": {},
   "source": [
    "**confusion matrix display**"
   ]
  },
  {
   "cell_type": "code",
   "execution_count": 61,
   "metadata": {
    "execution": {
     "iopub.execute_input": "2024-05-19T14:08:39.16967Z",
     "iopub.status.busy": "2024-05-19T14:08:39.169294Z",
     "iopub.status.idle": "2024-05-19T14:08:39.497973Z",
     "shell.execute_reply": "2024-05-19T14:08:39.496566Z",
     "shell.execute_reply.started": "2024-05-19T14:08:39.169623Z"
    }
   },
   "outputs": [
    {
     "data": {
      "image/png": "[encoded data removed]",
      "text/plain": [
       "<Figure size 640x480 with 2 Axes>"
      ]
     },
     "metadata": {},
     "output_type": "display_data"
    }
   ],
   "source": [
    "ConfusionMatrixDisplay(cm).plot()\n",
    "plt.show()"
   ]
  },
  {
   "cell_type": "markdown",
   "metadata": {},
   "source": [
    "**classification report**"
   ]
  },
  {
   "cell_type": "code",
   "execution_count": 62,
   "metadata": {
    "execution": {
     "iopub.execute_input": "2024-05-19T14:08:39.500575Z",
     "iopub.status.busy": "2024-05-19T14:08:39.499705Z",
     "iopub.status.idle": "2024-05-19T14:08:39.521344Z",
     "shell.execute_reply": "2024-05-19T14:08:39.520084Z",
     "shell.execute_reply.started": "2024-05-19T14:08:39.50053Z"
    }
   },
   "outputs": [
    {
     "name": "stdout",
     "output_type": "stream",
     "text": [
      "              precision    recall  f1-score   support\n",
      "\n",
      "           0       0.38      0.41      0.39       584\n",
      "           1       0.33      0.24      0.27       490\n",
      "           2       0.46      0.54      0.50       472\n",
      "           3       0.58      0.59      0.58       593\n",
      "\n",
      "    accuracy                           0.45      2139\n",
      "   macro avg       0.44      0.44      0.44      2139\n",
      "weighted avg       0.44      0.45      0.44      2139\n",
      "\n"
     ]
    }
   ],
   "source": [
    "from sklearn.metrics import classification_report\n",
    "print(classification_report(y_test,ŷ_test))"
   ]
  },
  {
   "cell_type": "markdown",
   "metadata": {},
   "source": [
    "# SVM"
   ]
  },
  {
   "cell_type": "markdown",
   "metadata": {},
   "source": [
    "**hyper parametre tuning**"
   ]
  },
  {
   "cell_type": "code",
   "execution_count": 63,
   "metadata": {
    "execution": {
     "iopub.execute_input": "2024-05-19T14:32:53.791279Z",
     "iopub.status.busy": "2024-05-19T14:32:53.790882Z",
     "iopub.status.idle": "2024-05-19T14:38:49.750494Z",
     "shell.execute_reply": "2024-05-19T14:38:49.749455Z",
     "shell.execute_reply.started": "2024-05-19T14:32:53.79125Z"
    }
   },
   "outputs": [
    {
     "data": {
      "text/plain": [
       "{'C': 7, 'kernel': 'rbf'}"
      ]
     },
     "execution_count": 63,
     "metadata": {},
     "output_type": "execute_result"
    }
   ],
   "source": [
    "from sklearn.svm import SVC\n",
    "estimator=SVC()\n",
    "param_grid={\"C\":[1,3,5,7,9],\"kernel\":[\"linear\",\"polynomial\",\"rbf\",\"sigmoid\"]}\n",
    "model1=GridSearchCV(estimator,param_grid,cv=5,scoring=\"accuracy\")\n",
    "model1.fit(x_train,y_train)\n",
    "model1.best_params_"
   ]
  },
  {
   "cell_type": "markdown",
   "metadata": {},
   "source": [
    "**modelling**"
   ]
  },
  {
   "cell_type": "code",
   "execution_count": 64,
   "metadata": {
    "execution": {
     "iopub.execute_input": "2024-05-19T14:38:58.442084Z",
     "iopub.status.busy": "2024-05-19T14:38:58.441681Z",
     "iopub.status.idle": "2024-05-19T14:39:26.410209Z",
     "shell.execute_reply": "2024-05-19T14:39:26.408808Z",
     "shell.execute_reply.started": "2024-05-19T14:38:58.442055Z"
    }
   },
   "outputs": [
    {
     "name": "stdout",
     "output_type": "stream",
     "text": [
      "train accuracy 0.5126227208976157\n",
      "test accuracy 0.46657316503038804\n",
      "CV 0.45593684624502256\n"
     ]
    }
   ],
   "source": [
    "svm=SVC(C=3,kernel=\"rbf\")\n",
    "svm.fit(x_train,y_train)\n",
    "\n",
    "ŷ_train=svm.predict(x_train)\n",
    "ŷ_test=svm.predict(x_test)\n",
    "print(\"train accuracy\",accuracy_score(y_train,ŷ_train))\n",
    "print(\"test accuracy\",accuracy_score(y_test,ŷ_test))\n",
    "print(\"CV\",cross_val_score(svm,x_train,y_train,cv=5,scoring=\"accuracy\").mean())"
   ]
  },
  {
   "cell_type": "markdown",
   "metadata": {},
   "source": [
    "**confusion matrix**"
   ]
  },
  {
   "cell_type": "code",
   "execution_count": 65,
   "metadata": {
    "execution": {
     "iopub.execute_input": "2024-05-19T14:39:31.396072Z",
     "iopub.status.busy": "2024-05-19T14:39:31.395725Z",
     "iopub.status.idle": "2024-05-19T14:39:31.406177Z",
     "shell.execute_reply": "2024-05-19T14:39:31.405078Z",
     "shell.execute_reply.started": "2024-05-19T14:39:31.396047Z"
    }
   },
   "outputs": [
    {
     "data": {
      "text/plain": [
       "array([[268,  82,  93, 141],\n",
       "       [154, 111, 140,  85],\n",
       "       [100,  60, 246,  66],\n",
       "       [153,  24,  43, 373]], dtype=int64)"
      ]
     },
     "execution_count": 65,
     "metadata": {},
     "output_type": "execute_result"
    }
   ],
   "source": [
    "cm=confusion_matrix(y_test,ŷ_test)\n",
    "cm"
   ]
  },
  {
   "cell_type": "code",
   "execution_count": 66,
   "metadata": {
    "execution": {
     "iopub.execute_input": "2024-05-19T14:39:32.315963Z",
     "iopub.status.busy": "2024-05-19T14:39:32.315011Z",
     "iopub.status.idle": "2024-05-19T14:39:32.617187Z",
     "shell.execute_reply": "2024-05-19T14:39:32.615858Z",
     "shell.execute_reply.started": "2024-05-19T14:39:32.315926Z"
    }
   },
   "outputs": [
    {
     "data": {
      "image/png": "[encoded data removed]",
      "text/plain": [
       "<Figure size 640x480 with 2 Axes>"
      ]
     },
     "metadata": {},
     "output_type": "display_data"
    }
   ],
   "source": [
    "ConfusionMatrixDisplay(cm).plot()\n",
    "plt.show()"
   ]
  },
  {
   "cell_type": "code",
   "execution_count": 67,
   "metadata": {
    "execution": {
     "iopub.execute_input": "2024-05-19T14:39:34.023548Z",
     "iopub.status.busy": "2024-05-19T14:39:34.023141Z",
     "iopub.status.idle": "2024-05-19T14:39:34.041776Z",
     "shell.execute_reply": "2024-05-19T14:39:34.040703Z",
     "shell.execute_reply.started": "2024-05-19T14:39:34.023516Z"
    }
   },
   "outputs": [
    {
     "name": "stdout",
     "output_type": "stream",
     "text": [
      "              precision    recall  f1-score   support\n",
      "\n",
      "           0       0.40      0.46      0.43       584\n",
      "           1       0.40      0.23      0.29       490\n",
      "           2       0.47      0.52      0.49       472\n",
      "           3       0.56      0.63      0.59       593\n",
      "\n",
      "    accuracy                           0.47      2139\n",
      "   macro avg       0.46      0.46      0.45      2139\n",
      "weighted avg       0.46      0.47      0.46      2139\n",
      "\n"
     ]
    }
   ],
   "source": [
    "print(classification_report(y_test,ŷ_test))"
   ]
  },
  {
   "cell_type": "markdown",
   "metadata": {},
   "source": [
    "# Decision Tree"
   ]
  },
  {
   "cell_type": "markdown",
   "metadata": {},
   "source": [
    "**hyper parametre tuning**"
   ]
  },
  {
   "cell_type": "code",
   "execution_count": 68,
   "metadata": {
    "execution": {
     "iopub.execute_input": "2024-05-19T14:39:38.717346Z",
     "iopub.status.busy": "2024-05-19T14:39:38.716741Z",
     "iopub.status.idle": "2024-05-19T14:39:39.05301Z",
     "shell.execute_reply": "2024-05-19T14:39:39.052117Z",
     "shell.execute_reply.started": "2024-05-19T14:39:38.717314Z"
    }
   },
   "outputs": [
    {
     "data": {
      "text/plain": [
       "{'criterion': 'gini'}"
      ]
     },
     "execution_count": 68,
     "metadata": {},
     "output_type": "execute_result"
    }
   ],
   "source": [
    "from sklearn.model_selection import GridSearchCV\n",
    "from sklearn.tree import DecisionTreeClassifier\n",
    "estimator=DecisionTreeClassifier()\n",
    "param_grid={'criterion':['gini','entropy']}\n",
    "model=GridSearchCV(estimator, param_grid, cv=5, scoring='accuracy')\n",
    "model.fit(x_train,y_train)\n",
    "model.best_params_"
   ]
  },
  {
   "cell_type": "markdown",
   "metadata": {},
   "source": [
    "**modelling**"
   ]
  },
  {
   "cell_type": "code",
   "execution_count": 69,
   "metadata": {
    "execution": {
     "iopub.execute_input": "2024-05-19T14:39:43.055472Z",
     "iopub.status.busy": "2024-05-19T14:39:43.055053Z",
     "iopub.status.idle": "2024-05-19T14:39:43.24607Z",
     "shell.execute_reply": "2024-05-19T14:39:43.2451Z",
     "shell.execute_reply.started": "2024-05-19T14:39:43.055443Z"
    }
   },
   "outputs": [
    {
     "name": "stdout",
     "output_type": "stream",
     "text": [
      "Train Accuracy: 0.934315100514259\n",
      "Test Accuracy: 0.35530621785881256\n",
      "CV score: 0.3717850958886152\n"
     ]
    }
   ],
   "source": [
    "from sklearn.tree import DecisionTreeClassifier\n",
    "dt=DecisionTreeClassifier(criterion='gini')\n",
    "dt.fit(x_train,y_train)\n",
    "\n",
    "train_pred=dt.predict(x_train)\n",
    "test_pred=dt.predict(x_test)\n",
    "#Evaluation\n",
    "print('Train Accuracy:',accuracy_score(y_train,train_pred))\n",
    "print('Test Accuracy:',accuracy_score(y_test,test_pred))\n",
    "\n",
    "print('CV score:',cross_val_score(dt,x_train,y_train,cv=5,scoring='accuracy').mean())"
   ]
  },
  {
   "cell_type": "markdown",
   "metadata": {},
   "source": [
    "**confusion matrix**"
   ]
  },
  {
   "cell_type": "code",
   "execution_count": 70,
   "metadata": {
    "execution": {
     "iopub.execute_input": "2024-05-19T14:39:44.340503Z",
     "iopub.status.busy": "2024-05-19T14:39:44.340137Z",
     "iopub.status.idle": "2024-05-19T14:39:44.349923Z",
     "shell.execute_reply": "2024-05-19T14:39:44.348751Z",
     "shell.execute_reply.started": "2024-05-19T14:39:44.340476Z"
    }
   },
   "outputs": [
    {
     "data": {
      "text/plain": [
       "array([[268,  82,  93, 141],\n",
       "       [154, 111, 140,  85],\n",
       "       [100,  60, 246,  66],\n",
       "       [153,  24,  43, 373]], dtype=int64)"
      ]
     },
     "execution_count": 70,
     "metadata": {},
     "output_type": "execute_result"
    }
   ],
   "source": [
    "cm=confusion_matrix(y_test,ŷ_test)\n",
    "cm"
   ]
  },
  {
   "cell_type": "code",
   "execution_count": 71,
   "metadata": {
    "execution": {
     "iopub.execute_input": "2024-05-19T14:39:45.346306Z",
     "iopub.status.busy": "2024-05-19T14:39:45.345013Z",
     "iopub.status.idle": "2024-05-19T14:39:45.652604Z",
     "shell.execute_reply": "2024-05-19T14:39:45.651358Z",
     "shell.execute_reply.started": "2024-05-19T14:39:45.346258Z"
    }
   },
   "outputs": [
    {
     "data": {
      "image/png": "[encoded data removed]",
      "text/plain": [
       "<Figure size 640x480 with 2 Axes>"
      ]
     },
     "metadata": {},
     "output_type": "display_data"
    }
   ],
   "source": [
    "ConfusionMatrixDisplay(cm).plot()\n",
    "plt.show()"
   ]
  },
  {
   "cell_type": "code",
   "execution_count": 72,
   "metadata": {
    "execution": {
     "iopub.execute_input": "2024-05-19T14:39:45.869791Z",
     "iopub.status.busy": "2024-05-19T14:39:45.869374Z",
     "iopub.status.idle": "2024-05-19T14:39:45.891364Z",
     "shell.execute_reply": "2024-05-19T14:39:45.890391Z",
     "shell.execute_reply.started": "2024-05-19T14:39:45.86976Z"
    }
   },
   "outputs": [
    {
     "name": "stdout",
     "output_type": "stream",
     "text": [
      "              precision    recall  f1-score   support\n",
      "\n",
      "           0       0.40      0.46      0.43       584\n",
      "           1       0.40      0.23      0.29       490\n",
      "           2       0.47      0.52      0.49       472\n",
      "           3       0.56      0.63      0.59       593\n",
      "\n",
      "    accuracy                           0.47      2139\n",
      "   macro avg       0.46      0.46      0.45      2139\n",
      "weighted avg       0.46      0.47      0.46      2139\n",
      "\n"
     ]
    }
   ],
   "source": [
    "print(classification_report(y_test,ŷ_test))"
   ]
  },
  {
   "cell_type": "markdown",
   "metadata": {},
   "source": [
    "# Random Forest"
   ]
  },
  {
   "cell_type": "markdown",
   "metadata": {},
   "source": [
    "**Hyper parameter Tuning**"
   ]
  },
  {
   "cell_type": "code",
   "execution_count": 73,
   "metadata": {
    "execution": {
     "iopub.execute_input": "2024-05-19T14:39:51.767965Z",
     "iopub.status.busy": "2024-05-19T14:39:51.767146Z",
     "iopub.status.idle": "2024-05-19T14:40:59.568905Z",
     "shell.execute_reply": "2024-05-19T14:40:59.567622Z",
     "shell.execute_reply.started": "2024-05-19T14:39:51.767912Z"
    }
   },
   "outputs": [
    {
     "data": {
      "text/plain": [
       "{'n_estimators': 40}"
      ]
     },
     "execution_count": 73,
     "metadata": {},
     "output_type": "execute_result"
    }
   ],
   "source": [
    "from  sklearn.ensemble import RandomForestClassifier\n",
    "from sklearn.model_selection import GridSearchCV\n",
    "estimator=RandomForestClassifier(random_state=42)\n",
    "param_grid={\"n_estimators\":list(range(1,50))}\n",
    "model=GridSearchCV(estimator,param_grid,cv=5,scoring=\"accuracy\")\n",
    "model.fit(x_train,y_train)\n",
    "model.best_params_"
   ]
  },
  {
   "cell_type": "markdown",
   "metadata": {},
   "source": [
    "**Modelling**"
   ]
  },
  {
   "cell_type": "code",
   "execution_count": 74,
   "metadata": {
    "execution": {
     "iopub.execute_input": "2024-05-19T14:41:06.369686Z",
     "iopub.status.busy": "2024-05-19T14:41:06.369287Z",
     "iopub.status.idle": "2024-05-19T14:41:08.650948Z",
     "shell.execute_reply": "2024-05-19T14:41:08.649836Z",
     "shell.execute_reply.started": "2024-05-19T14:41:06.369657Z"
    }
   },
   "outputs": [
    {
     "name": "stdout",
     "output_type": "stream",
     "text": [
      "train_accuracy 0.9331463300607761\n",
      "test_accuracy 0.4198223468910706\n",
      "CV 0.4142132135658766\n"
     ]
    }
   ],
   "source": [
    "rf=RandomForestClassifier(n_estimators=31)\n",
    "rf.fit(x_train,y_train)\n",
    "\n",
    "ŷ_train=rf.predict(x_train)\n",
    "ŷ_test=rf.predict(x_test)\n",
    "\n",
    "from sklearn.metrics import accuracy_score\n",
    "from sklearn.model_selection import cross_val_score\n",
    "print(\"train_accuracy\",accuracy_score(y_train,ŷ_train))\n",
    "print(\"test_accuracy\",accuracy_score(y_test,ŷ_test))\n",
    "print(\"CV\",cross_val_score(rf,x_train,y_train,cv=5,scoring=\"accuracy\").mean())"
   ]
  },
  {
   "cell_type": "markdown",
   "metadata": {},
   "source": [
    "**Confusion matrix**"
   ]
  },
  {
   "cell_type": "code",
   "execution_count": 75,
   "metadata": {
    "execution": {
     "iopub.execute_input": "2024-05-19T14:41:11.294966Z",
     "iopub.status.busy": "2024-05-19T14:41:11.293954Z",
     "iopub.status.idle": "2024-05-19T14:41:11.303492Z",
     "shell.execute_reply": "2024-05-19T14:41:11.302228Z",
     "shell.execute_reply.started": "2024-05-19T14:41:11.294929Z"
    }
   },
   "outputs": [
    {
     "data": {
      "text/plain": [
       "array([[230, 129, 100, 125],\n",
       "       [145, 129, 126,  90],\n",
       "       [100, 118, 189,  65],\n",
       "       [121,  74,  48, 350]], dtype=int64)"
      ]
     },
     "execution_count": 75,
     "metadata": {},
     "output_type": "execute_result"
    }
   ],
   "source": [
    "cm=confusion_matrix(y_test,ŷ_test)\n",
    "cm"
   ]
  },
  {
   "cell_type": "code",
   "execution_count": 76,
   "metadata": {
    "execution": {
     "iopub.execute_input": "2024-05-19T14:41:13.711731Z",
     "iopub.status.busy": "2024-05-19T14:41:13.711275Z",
     "iopub.status.idle": "2024-05-19T14:41:14.002413Z",
     "shell.execute_reply": "2024-05-19T14:41:14.001328Z",
     "shell.execute_reply.started": "2024-05-19T14:41:13.711698Z"
    }
   },
   "outputs": [
    {
     "data": {
      "image/png": "[encoded data removed]",
      "text/plain": [
       "<Figure size 640x480 with 2 Axes>"
      ]
     },
     "metadata": {},
     "output_type": "display_data"
    }
   ],
   "source": [
    "ConfusionMatrixDisplay(cm).plot()\n",
    "plt.show()"
   ]
  },
  {
   "cell_type": "markdown",
   "metadata": {},
   "source": [
    "**Classification report**"
   ]
  },
  {
   "cell_type": "code",
   "execution_count": 77,
   "metadata": {
    "execution": {
     "iopub.execute_input": "2024-05-19T14:41:16.858558Z",
     "iopub.status.busy": "2024-05-19T14:41:16.85815Z",
     "iopub.status.idle": "2024-05-19T14:41:16.876778Z",
     "shell.execute_reply": "2024-05-19T14:41:16.875713Z",
     "shell.execute_reply.started": "2024-05-19T14:41:16.858528Z"
    }
   },
   "outputs": [
    {
     "name": "stdout",
     "output_type": "stream",
     "text": [
      "              precision    recall  f1-score   support\n",
      "\n",
      "           0       0.39      0.39      0.39       584\n",
      "           1       0.29      0.26      0.27       490\n",
      "           2       0.41      0.40      0.40       472\n",
      "           3       0.56      0.59      0.57       593\n",
      "\n",
      "    accuracy                           0.42      2139\n",
      "   macro avg       0.41      0.41      0.41      2139\n",
      "weighted avg       0.42      0.42      0.42      2139\n",
      "\n"
     ]
    }
   ],
   "source": [
    "print(classification_report(y_test,ŷ_test))"
   ]
  },
  {
   "cell_type": "markdown",
   "metadata": {},
   "source": [
    "# AdaBoost Classifier"
   ]
  },
  {
   "cell_type": "markdown",
   "metadata": {},
   "source": [
    "**Hyper Parameter Tuning**"
   ]
  },
  {
   "cell_type": "code",
   "execution_count": 78,
   "metadata": {
    "execution": {
     "iopub.execute_input": "2024-05-19T14:46:40.080616Z",
     "iopub.status.busy": "2024-05-19T14:46:40.080224Z",
     "iopub.status.idle": "2024-05-19T14:47:17.834786Z",
     "shell.execute_reply": "2024-05-19T14:47:17.833516Z",
     "shell.execute_reply.started": "2024-05-19T14:46:40.080586Z"
    }
   },
   "outputs": [
    {
     "data": {
      "text/plain": [
       "{'n_estimators': 37}"
      ]
     },
     "execution_count": 78,
     "metadata": {},
     "output_type": "execute_result"
    }
   ],
   "source": [
    "from  sklearn.ensemble import AdaBoostClassifier\n",
    "from sklearn.model_selection import GridSearchCV\n",
    "estimator=AdaBoostClassifier(random_state=42)\n",
    "param_grid={\"n_estimators\":list(range(1,50))}\n",
    "model=GridSearchCV(estimator,param_grid,cv=5,scoring=\"accuracy\")\n",
    "model.fit(x_train,y_train)\n",
    "model.best_params_"
   ]
  },
  {
   "cell_type": "markdown",
   "metadata": {},
   "source": [
    "**Modelling**"
   ]
  },
  {
   "cell_type": "code",
   "execution_count": 79,
   "metadata": {
    "execution": {
     "iopub.execute_input": "2024-05-19T14:47:25.202868Z",
     "iopub.status.busy": "2024-05-19T14:47:25.202447Z",
     "iopub.status.idle": "2024-05-19T14:47:25.993962Z",
     "shell.execute_reply": "2024-05-19T14:47:25.99291Z",
     "shell.execute_reply.started": "2024-05-19T14:47:25.202829Z"
    }
   },
   "outputs": [
    {
     "name": "stdout",
     "output_type": "stream",
     "text": [
      "train_accuracy 0.4749883122954652\n",
      "test_accuracy 0.4791958859280037\n",
      "CV 0.4689093250380988\n"
     ]
    }
   ],
   "source": [
    "ab=AdaBoostClassifier(n_estimators=18)\n",
    "ab.fit(x_train,y_train)\n",
    "\n",
    "ŷ_train=ab.predict(x_train)\n",
    "ŷ_test=ab.predict(x_test)\n",
    "\n",
    "from sklearn.metrics import accuracy_score\n",
    "from sklearn.model_selection import cross_val_score\n",
    "print(\"train_accuracy\",accuracy_score(y_train,ŷ_train))\n",
    "print(\"test_accuracy\",accuracy_score(y_test,ŷ_test))\n",
    "print(\"CV\",cross_val_score(ab,x_train,y_train,cv=5,scoring=\"accuracy\").mean())"
   ]
  },
  {
   "cell_type": "markdown",
   "metadata": {},
   "source": [
    "**Confusion matrix**"
   ]
  },
  {
   "cell_type": "code",
   "execution_count": 80,
   "metadata": {
    "execution": {
     "iopub.execute_input": "2024-05-19T14:42:49.473399Z",
     "iopub.status.busy": "2024-05-19T14:42:49.473008Z",
     "iopub.status.idle": "2024-05-19T14:42:49.484734Z",
     "shell.execute_reply": "2024-05-19T14:42:49.483564Z",
     "shell.execute_reply.started": "2024-05-19T14:42:49.47337Z"
    }
   },
   "outputs": [
    {
     "data": {
      "text/plain": [
       "array([[265,  53, 127, 139],\n",
       "       [158,  89, 171,  72],\n",
       "       [ 89,  46, 280,  57],\n",
       "       [129,  26,  47, 391]], dtype=int64)"
      ]
     },
     "execution_count": 80,
     "metadata": {},
     "output_type": "execute_result"
    }
   ],
   "source": [
    "cm=confusion_matrix(y_test,ŷ_test)\n",
    "cm"
   ]
  },
  {
   "cell_type": "code",
   "execution_count": 81,
   "metadata": {
    "execution": {
     "iopub.execute_input": "2024-05-19T14:42:50.806836Z",
     "iopub.status.busy": "2024-05-19T14:42:50.806428Z",
     "iopub.status.idle": "2024-05-19T14:42:51.117571Z",
     "shell.execute_reply": "2024-05-19T14:42:51.116417Z",
     "shell.execute_reply.started": "2024-05-19T14:42:50.806806Z"
    }
   },
   "outputs": [
    {
     "data": {
      "image/png": "[encoded data removed]",
      "text/plain": [
       "<Figure size 640x480 with 2 Axes>"
      ]
     },
     "metadata": {},
     "output_type": "display_data"
    }
   ],
   "source": [
    "ConfusionMatrixDisplay(cm).plot()\n",
    "plt.show()"
   ]
  },
  {
   "cell_type": "markdown",
   "metadata": {},
   "source": [
    "**Classification Report**"
   ]
  },
  {
   "cell_type": "code",
   "execution_count": 82,
   "metadata": {
    "execution": {
     "iopub.execute_input": "2024-05-19T14:42:54.692526Z",
     "iopub.status.busy": "2024-05-19T14:42:54.691367Z",
     "iopub.status.idle": "2024-05-19T14:42:54.709839Z",
     "shell.execute_reply": "2024-05-19T14:42:54.70872Z",
     "shell.execute_reply.started": "2024-05-19T14:42:54.692488Z"
    }
   },
   "outputs": [
    {
     "name": "stdout",
     "output_type": "stream",
     "text": [
      "              precision    recall  f1-score   support\n",
      "\n",
      "           0       0.41      0.45      0.43       584\n",
      "           1       0.42      0.18      0.25       490\n",
      "           2       0.45      0.59      0.51       472\n",
      "           3       0.59      0.66      0.62       593\n",
      "\n",
      "    accuracy                           0.48      2139\n",
      "   macro avg       0.47      0.47      0.46      2139\n",
      "weighted avg       0.47      0.48      0.46      2139\n",
      "\n"
     ]
    }
   ],
   "source": [
    "print(classification_report(y_test,ŷ_test))"
   ]
  },
  {
   "cell_type": "markdown",
   "metadata": {},
   "source": [
    "# Gradient Boost Classifier"
   ]
  },
  {
   "cell_type": "markdown",
   "metadata": {},
   "source": [
    "**Hyper Parameter Tuning**"
   ]
  },
  {
   "cell_type": "code",
   "execution_count": 83,
   "metadata": {
    "execution": {
     "iopub.execute_input": "2024-05-19T14:47:45.17159Z",
     "iopub.status.busy": "2024-05-19T14:47:45.170461Z",
     "iopub.status.idle": "2024-05-19T14:48:17.152329Z",
     "shell.execute_reply": "2024-05-19T14:48:17.150845Z",
     "shell.execute_reply.started": "2024-05-19T14:47:45.171549Z"
    }
   },
   "outputs": [
    {
     "data": {
      "text/plain": [
       "{'learning_rate': 0.3, 'n_estimators': 9}"
      ]
     },
     "execution_count": 83,
     "metadata": {},
     "output_type": "execute_result"
    }
   ],
   "source": [
    "from  sklearn.ensemble import GradientBoostingClassifier\n",
    "from sklearn.model_selection import GridSearchCV\n",
    "estimator=GradientBoostingClassifier(random_state=42)\n",
    "param_grid={\"n_estimators\":list(range(1,10)),\"learning_rate\":[0.1,0.2,0.3,0.4,0.5]}\n",
    "model=GridSearchCV(estimator,param_grid,cv=5,scoring=\"accuracy\")\n",
    "model.fit(x_train,y_train)\n",
    "model.best_params_"
   ]
  },
  {
   "cell_type": "markdown",
   "metadata": {},
   "source": [
    "**Modelling**"
   ]
  },
  {
   "cell_type": "code",
   "execution_count": 84,
   "metadata": {
    "execution": {
     "iopub.execute_input": "2024-05-19T14:49:26.720139Z",
     "iopub.status.busy": "2024-05-19T14:49:26.719713Z",
     "iopub.status.idle": "2024-05-19T14:49:28.284483Z",
     "shell.execute_reply": "2024-05-19T14:49:28.283304Z",
     "shell.execute_reply.started": "2024-05-19T14:49:26.720106Z"
    }
   },
   "outputs": [
    {
     "name": "stdout",
     "output_type": "stream",
     "text": [
      "train_accuracy 0.49754558204768584\n",
      "test_accuracy 0.49181860682561945\n",
      "CV 0.4752213549490104\n"
     ]
    }
   ],
   "source": [
    "gb=GradientBoostingClassifier(n_estimators=9,learning_rate=0.4)\n",
    "gb.fit(x_train,y_train)\n",
    "\n",
    "ŷ_train=gb.predict(x_train)\n",
    "ŷ_test=gb.predict(x_test)\n",
    "\n",
    "from sklearn.metrics import accuracy_score\n",
    "from sklearn.model_selection import cross_val_score\n",
    "print(\"train_accuracy\",accuracy_score(y_train,ŷ_train))\n",
    "print(\"test_accuracy\",accuracy_score(y_test,ŷ_test))\n",
    "print(\"CV\",cross_val_score(gb,x_train,y_train,cv=5,scoring=\"accuracy\").mean())"
   ]
  },
  {
   "cell_type": "markdown",
   "metadata": {},
   "source": [
    "**Confusion matrix**"
   ]
  },
  {
   "cell_type": "code",
   "execution_count": 85,
   "metadata": {
    "execution": {
     "iopub.execute_input": "2024-05-19T14:49:28.287465Z",
     "iopub.status.busy": "2024-05-19T14:49:28.286488Z",
     "iopub.status.idle": "2024-05-19T14:49:28.298019Z",
     "shell.execute_reply": "2024-05-19T14:49:28.296747Z",
     "shell.execute_reply.started": "2024-05-19T14:49:28.287419Z"
    }
   },
   "outputs": [
    {
     "data": {
      "text/plain": [
       "array([[269,  96,  84, 135],\n",
       "       [155, 137, 125,  73],\n",
       "       [ 82,  73, 256,  61],\n",
       "       [135,  30,  38, 390]], dtype=int64)"
      ]
     },
     "execution_count": 85,
     "metadata": {},
     "output_type": "execute_result"
    }
   ],
   "source": [
    "cm=confusion_matrix(y_test,ŷ_test)\n",
    "cm"
   ]
  },
  {
   "cell_type": "code",
   "execution_count": 86,
   "metadata": {
    "execution": {
     "iopub.execute_input": "2024-05-19T14:49:28.299944Z",
     "iopub.status.busy": "2024-05-19T14:49:28.299529Z",
     "iopub.status.idle": "2024-05-19T14:49:28.628888Z",
     "shell.execute_reply": "2024-05-19T14:49:28.62804Z",
     "shell.execute_reply.started": "2024-05-19T14:49:28.299911Z"
    }
   },
   "outputs": [
    {
     "data": {
      "image/png": "[encoded data removed]",
      "text/plain": [
       "<Figure size 640x480 with 2 Axes>"
      ]
     },
     "metadata": {},
     "output_type": "display_data"
    }
   ],
   "source": [
    "ConfusionMatrixDisplay(cm).plot()\n",
    "plt.show()"
   ]
  },
  {
   "cell_type": "markdown",
   "metadata": {},
   "source": [
    "**Classification Report**"
   ]
  },
  {
   "cell_type": "code",
   "execution_count": 87,
   "metadata": {
    "execution": {
     "iopub.execute_input": "2024-05-19T14:49:30.092242Z",
     "iopub.status.busy": "2024-05-19T14:49:30.091159Z",
     "iopub.status.idle": "2024-05-19T14:49:30.10856Z",
     "shell.execute_reply": "2024-05-19T14:49:30.107776Z",
     "shell.execute_reply.started": "2024-05-19T14:49:30.092206Z"
    }
   },
   "outputs": [
    {
     "name": "stdout",
     "output_type": "stream",
     "text": [
      "              precision    recall  f1-score   support\n",
      "\n",
      "           0       0.42      0.46      0.44       584\n",
      "           1       0.41      0.28      0.33       490\n",
      "           2       0.51      0.54      0.53       472\n",
      "           3       0.59      0.66      0.62       593\n",
      "\n",
      "    accuracy                           0.49      2139\n",
      "   macro avg       0.48      0.49      0.48      2139\n",
      "weighted avg       0.48      0.49      0.48      2139\n",
      "\n"
     ]
    }
   ],
   "source": [
    "print(classification_report(y_test,ŷ_test))"
   ]
  },
  {
   "cell_type": "markdown",
   "metadata": {},
   "source": [
    "# XG Boost Classifier"
   ]
  },
  {
   "cell_type": "markdown",
   "metadata": {},
   "source": [
    "**Hyper parameter Tuning**"
   ]
  },
  {
   "cell_type": "code",
   "execution_count": 89,
   "metadata": {
    "execution": {
     "iopub.execute_input": "2024-05-19T14:50:33.922907Z",
     "iopub.status.busy": "2024-05-19T14:50:33.922492Z",
     "iopub.status.idle": "2024-05-19T14:51:12.948972Z",
     "shell.execute_reply": "2024-05-19T14:51:12.947548Z",
     "shell.execute_reply.started": "2024-05-19T14:50:33.922871Z"
    }
   },
   "outputs": [
    {
     "name": "stdout",
     "output_type": "stream",
     "text": [
      "Collecting xgboost\n",
      "  Downloading xgboost-2.1.1-py3-none-win_amd64.whl.metadata (2.1 kB)\n",
      "Requirement already satisfied: numpy in c:\\users\\petter\\anaconda3\\lib\\site-packages (from xgboost) (1.24.3)\n",
      "Requirement already satisfied: scipy in c:\\users\\petter\\anaconda3\\lib\\site-packages (from xgboost) (1.10.1)\n",
      "Downloading xgboost-2.1.1-py3-none-win_amd64.whl (124.9 MB)\n",
      "   ---------------------------------------- 0.0/124.9 MB ? eta -:--:--\n",
      "   ---------------------------------------- 0.0/124.9 MB ? eta -:--:--\n",
      "   ---------------------------------------- 0.0/124.9 MB ? eta -:--:--\n",
      "   ---------------------------------------- 0.0/124.9 MB ? eta -:--:--\n",
      "   ---------------------------------------- 0.3/124.9 MB ? eta -:--:--\n",
      "   ---------------------------------------- 0.3/124.9 MB ? eta -:--:--\n",
      "   ---------------------------------------- 0.8/124.9 MB 1.0 MB/s eta 0:01:59\n",
      "   ---------------------------------------- 1.3/124.9 MB 1.5 MB/s eta 0:01:23\n",
      "   ---------------------------------------- 1.3/124.9 MB 1.5 MB/s eta 0:01:23\n",
      "    --------------------------------------- 1.8/124.9 MB 1.4 MB/s eta 0:01:30\n",
      "    --------------------------------------- 2.1/124.9 MB 1.5 MB/s eta 0:01:20\n",
      "    --------------------------------------- 2.1/124.9 MB 1.5 MB/s eta 0:01:20\n",
      "    --------------------------------------- 2.1/124.9 MB 1.5 MB/s eta 0:01:20\n",
      "    --------------------------------------- 2.1/124.9 MB 1.5 MB/s eta 0:01:20\n",
      "   - -------------------------------------- 3.4/124.9 MB 1.4 MB/s eta 0:01:26\n",
      "   - -------------------------------------- 3.7/124.9 MB 1.4 MB/s eta 0:01:26\n",
      "   - -------------------------------------- 3.9/124.9 MB 1.4 MB/s eta 0:01:25\n",
      "   - -------------------------------------- 4.2/124.9 MB 1.3 MB/s eta 0:01:31\n",
      "   - -------------------------------------- 4.7/124.9 MB 1.4 MB/s eta 0:01:26\n",
      "   - -------------------------------------- 4.7/124.9 MB 1.4 MB/s eta 0:01:26\n",
      "   -- ------------------------------------- 6.3/124.9 MB 1.7 MB/s eta 0:01:10\n",
      "   -- ------------------------------------- 7.3/124.9 MB 1.8 MB/s eta 0:01:06\n",
      "   -- ------------------------------------- 7.6/124.9 MB 1.8 MB/s eta 0:01:05\n",
      "   -- ------------------------------------- 7.9/124.9 MB 1.8 MB/s eta 0:01:07\n",
      "   -- ------------------------------------- 8.1/124.9 MB 1.7 MB/s eta 0:01:11\n",
      "   -- ------------------------------------- 8.7/124.9 MB 1.7 MB/s eta 0:01:08\n",
      "   -- ------------------------------------- 9.2/124.9 MB 1.7 MB/s eta 0:01:08\n",
      "   --- ------------------------------------ 10.5/124.9 MB 1.9 MB/s eta 0:01:01\n",
      "   --- ------------------------------------ 11.3/124.9 MB 2.0 MB/s eta 0:00:59\n",
      "   --- ------------------------------------ 11.8/124.9 MB 2.0 MB/s eta 0:00:58\n",
      "   ---- ----------------------------------- 12.6/124.9 MB 2.0 MB/s eta 0:00:56\n",
      "   ---- ----------------------------------- 13.4/124.9 MB 2.1 MB/s eta 0:00:54\n",
      "   ---- ----------------------------------- 14.2/124.9 MB 2.1 MB/s eta 0:00:52\n",
      "   ---- ----------------------------------- 15.2/124.9 MB 2.2 MB/s eta 0:00:50\n",
      "   ----- ---------------------------------- 16.0/124.9 MB 2.3 MB/s eta 0:00:49\n",
      "   ----- ---------------------------------- 17.3/124.9 MB 2.3 MB/s eta 0:00:47\n",
      "   ----- ---------------------------------- 17.6/124.9 MB 2.3 MB/s eta 0:00:46\n",
      "   ----- ---------------------------------- 17.8/124.9 MB 2.3 MB/s eta 0:00:47\n",
      "   ----- ---------------------------------- 18.4/124.9 MB 2.3 MB/s eta 0:00:48\n",
      "   ------ --------------------------------- 19.1/124.9 MB 2.3 MB/s eta 0:00:46\n",
      "   ------ --------------------------------- 20.2/124.9 MB 2.4 MB/s eta 0:00:45\n",
      "   ------ --------------------------------- 21.0/124.9 MB 2.4 MB/s eta 0:00:44\n",
      "   ------- -------------------------------- 22.0/124.9 MB 2.4 MB/s eta 0:00:43\n",
      "   ------- -------------------------------- 22.3/124.9 MB 2.5 MB/s eta 0:00:42\n",
      "   ------- -------------------------------- 22.5/124.9 MB 2.4 MB/s eta 0:00:43\n",
      "   ------- -------------------------------- 22.5/124.9 MB 2.4 MB/s eta 0:00:43\n",
      "   ------- -------------------------------- 22.5/124.9 MB 2.4 MB/s eta 0:00:43\n",
      "   ------- -------------------------------- 22.5/124.9 MB 2.4 MB/s eta 0:00:43\n",
      "   ------- -------------------------------- 23.9/124.9 MB 2.3 MB/s eta 0:00:44\n",
      "   ------- -------------------------------- 24.9/124.9 MB 2.3 MB/s eta 0:00:43\n",
      "   -------- ------------------------------- 25.2/124.9 MB 2.3 MB/s eta 0:00:44\n",
      "   -------- ------------------------------- 25.7/124.9 MB 2.3 MB/s eta 0:00:44\n",
      "   -------- ------------------------------- 26.0/124.9 MB 2.3 MB/s eta 0:00:44\n",
      "   -------- ------------------------------- 26.7/124.9 MB 2.3 MB/s eta 0:00:44\n",
      "   -------- ------------------------------- 27.8/124.9 MB 2.3 MB/s eta 0:00:42\n",
      "   --------- ------------------------------ 28.6/124.9 MB 2.4 MB/s eta 0:00:41\n",
      "   --------- ------------------------------ 28.8/124.9 MB 2.4 MB/s eta 0:00:41\n",
      "   --------- ------------------------------ 28.8/124.9 MB 2.4 MB/s eta 0:00:41\n",
      "   --------- ------------------------------ 29.6/124.9 MB 2.3 MB/s eta 0:00:41\n",
      "   --------- ------------------------------ 29.6/124.9 MB 2.3 MB/s eta 0:00:41\n",
      "   --------- ------------------------------ 29.9/124.9 MB 2.3 MB/s eta 0:00:43\n",
      "   --------- ------------------------------ 30.1/124.9 MB 2.3 MB/s eta 0:00:42\n",
      "   --------- ------------------------------ 30.1/124.9 MB 2.3 MB/s eta 0:00:42\n",
      "   --------- ------------------------------ 30.9/124.9 MB 2.2 MB/s eta 0:00:43\n",
      "   ---------- ----------------------------- 31.7/124.9 MB 2.3 MB/s eta 0:00:42\n",
      "   ---------- ----------------------------- 32.8/124.9 MB 2.3 MB/s eta 0:00:41\n",
      "   ---------- ----------------------------- 33.0/124.9 MB 2.3 MB/s eta 0:00:40\n",
      "   ---------- ----------------------------- 33.3/124.9 MB 2.3 MB/s eta 0:00:41\n",
      "   ---------- ----------------------------- 33.8/124.9 MB 2.3 MB/s eta 0:00:41\n",
      "   ---------- ----------------------------- 34.3/124.9 MB 2.3 MB/s eta 0:00:40\n",
      "   ----------- ---------------------------- 34.9/124.9 MB 2.3 MB/s eta 0:00:40\n",
      "   ----------- ---------------------------- 35.1/124.9 MB 2.3 MB/s eta 0:00:40\n",
      "   ----------- ---------------------------- 35.7/124.9 MB 2.3 MB/s eta 0:00:40\n",
      "   ----------- ---------------------------- 36.2/124.9 MB 2.3 MB/s eta 0:00:40\n",
      "   ----------- ---------------------------- 36.7/124.9 MB 2.3 MB/s eta 0:00:40\n",
      "   ----------- ---------------------------- 37.0/124.9 MB 2.3 MB/s eta 0:00:40\n",
      "   ------------ --------------------------- 37.5/124.9 MB 2.3 MB/s eta 0:00:39\n",
      "   ------------ --------------------------- 38.0/124.9 MB 2.2 MB/s eta 0:00:39\n",
      "   ------------ --------------------------- 38.5/124.9 MB 2.2 MB/s eta 0:00:39\n",
      "   ------------ --------------------------- 38.8/124.9 MB 2.2 MB/s eta 0:00:39\n",
      "   ------------ --------------------------- 39.3/124.9 MB 2.2 MB/s eta 0:00:39\n",
      "   ------------ --------------------------- 39.8/124.9 MB 2.2 MB/s eta 0:00:38\n",
      "   ------------ --------------------------- 40.1/124.9 MB 2.2 MB/s eta 0:00:38\n",
      "   ------------- -------------------------- 40.6/124.9 MB 2.2 MB/s eta 0:00:38\n",
      "   ------------- -------------------------- 41.2/124.9 MB 2.2 MB/s eta 0:00:38\n",
      "   ------------- -------------------------- 41.4/124.9 MB 2.2 MB/s eta 0:00:38\n",
      "   ------------- -------------------------- 41.9/124.9 MB 2.2 MB/s eta 0:00:38\n",
      "   ------------- -------------------------- 42.5/124.9 MB 2.2 MB/s eta 0:00:37\n",
      "   ------------- -------------------------- 43.0/124.9 MB 2.2 MB/s eta 0:00:37\n",
      "   ------------- -------------------------- 43.5/124.9 MB 2.2 MB/s eta 0:00:37\n",
      "   -------------- ------------------------- 43.8/124.9 MB 2.2 MB/s eta 0:00:37\n",
      "   -------------- ------------------------- 44.3/124.9 MB 2.2 MB/s eta 0:00:37\n",
      "   -------------- ------------------------- 44.8/124.9 MB 2.2 MB/s eta 0:00:36\n",
      "   -------------- ------------------------- 45.4/124.9 MB 2.2 MB/s eta 0:00:36\n",
      "   -------------- ------------------------- 45.6/124.9 MB 2.2 MB/s eta 0:00:36\n",
      "   -------------- ------------------------- 45.6/124.9 MB 2.2 MB/s eta 0:00:36\n",
      "   -------------- ------------------------- 45.9/124.9 MB 2.2 MB/s eta 0:00:37\n",
      "   -------------- ------------------------- 46.1/124.9 MB 2.2 MB/s eta 0:00:37\n",
      "   -------------- ------------------------- 46.7/124.9 MB 2.2 MB/s eta 0:00:36\n",
      "   --------------- ------------------------ 47.2/124.9 MB 2.2 MB/s eta 0:00:36\n",
      "   --------------- ------------------------ 47.7/124.9 MB 2.2 MB/s eta 0:00:36\n",
      "   --------------- ------------------------ 48.0/124.9 MB 2.2 MB/s eta 0:00:36\n",
      "   --------------- ------------------------ 48.2/124.9 MB 2.2 MB/s eta 0:00:36\n",
      "   --------------- ------------------------ 49.0/124.9 MB 2.2 MB/s eta 0:00:35\n",
      "   --------------- ------------------------ 49.5/124.9 MB 2.2 MB/s eta 0:00:35\n",
      "   ---------------- ----------------------- 50.1/124.9 MB 2.2 MB/s eta 0:00:35\n",
      "   ---------------- ----------------------- 50.3/124.9 MB 2.2 MB/s eta 0:00:35\n",
      "   ---------------- ----------------------- 50.6/124.9 MB 2.2 MB/s eta 0:00:35\n",
      "   ---------------- ----------------------- 51.4/124.9 MB 2.2 MB/s eta 0:00:34\n",
      "   ---------------- ----------------------- 51.9/124.9 MB 2.2 MB/s eta 0:00:34\n",
      "   ---------------- ----------------------- 52.4/124.9 MB 2.2 MB/s eta 0:00:34\n",
      "   ---------------- ----------------------- 52.7/124.9 MB 2.2 MB/s eta 0:00:34\n",
      "   ----------------- ---------------------- 53.2/124.9 MB 2.2 MB/s eta 0:00:33\n",
      "   ----------------- ---------------------- 53.7/124.9 MB 2.2 MB/s eta 0:00:33\n",
      "   ----------------- ---------------------- 54.3/124.9 MB 2.2 MB/s eta 0:00:33\n",
      "   ----------------- ---------------------- 54.8/124.9 MB 2.2 MB/s eta 0:00:33\n",
      "   ----------------- ---------------------- 55.3/124.9 MB 2.2 MB/s eta 0:00:32\n",
      "   ----------------- ---------------------- 55.8/124.9 MB 2.2 MB/s eta 0:00:32\n",
      "   ------------------ --------------------- 56.4/124.9 MB 2.2 MB/s eta 0:00:32\n",
      "   ------------------ --------------------- 57.1/124.9 MB 2.2 MB/s eta 0:00:31\n",
      "   ------------------ --------------------- 57.7/124.9 MB 2.2 MB/s eta 0:00:31\n",
      "   ------------------ --------------------- 58.2/124.9 MB 2.2 MB/s eta 0:00:31\n",
      "   ------------------ --------------------- 59.0/124.9 MB 2.2 MB/s eta 0:00:30\n",
      "   ------------------- -------------------- 59.5/124.9 MB 2.2 MB/s eta 0:00:30\n",
      "   ------------------- -------------------- 60.3/124.9 MB 2.2 MB/s eta 0:00:30\n",
      "   ------------------- -------------------- 60.8/124.9 MB 2.2 MB/s eta 0:00:29\n",
      "   ------------------- -------------------- 61.3/124.9 MB 2.2 MB/s eta 0:00:29\n",
      "   ------------------- -------------------- 62.4/124.9 MB 2.2 MB/s eta 0:00:28\n",
      "   -------------------- ------------------- 62.9/124.9 MB 2.3 MB/s eta 0:00:28\n",
      "   -------------------- ------------------- 63.7/124.9 MB 2.3 MB/s eta 0:00:28\n",
      "   -------------------- ------------------- 64.7/124.9 MB 2.3 MB/s eta 0:00:27\n",
      "   -------------------- ------------------- 65.5/124.9 MB 2.3 MB/s eta 0:00:26\n",
      "   --------------------- ------------------ 66.3/124.9 MB 2.3 MB/s eta 0:00:26\n",
      "   --------------------- ------------------ 67.1/124.9 MB 2.3 MB/s eta 0:00:26\n",
      "   --------------------- ------------------ 67.4/124.9 MB 2.3 MB/s eta 0:00:25\n",
      "   --------------------- ------------------ 67.6/124.9 MB 2.3 MB/s eta 0:00:25\n",
      "   --------------------- ------------------ 68.2/124.9 MB 2.3 MB/s eta 0:00:25\n",
      "   ---------------------- ----------------- 69.2/124.9 MB 2.3 MB/s eta 0:00:25\n",
      "   ---------------------- ----------------- 69.7/124.9 MB 2.3 MB/s eta 0:00:24\n",
      "   ---------------------- ----------------- 70.8/124.9 MB 2.4 MB/s eta 0:00:24\n",
      "   ---------------------- ----------------- 71.6/124.9 MB 2.4 MB/s eta 0:00:23\n",
      "   ----------------------- ---------------- 71.8/124.9 MB 2.4 MB/s eta 0:00:23\n",
      "   ----------------------- ---------------- 71.8/124.9 MB 2.4 MB/s eta 0:00:23\n",
      "   ----------------------- ---------------- 71.8/124.9 MB 2.4 MB/s eta 0:00:23\n",
      "   ----------------------- ---------------- 72.1/124.9 MB 2.4 MB/s eta 0:00:23\n",
      "   ----------------------- ---------------- 73.1/124.9 MB 2.4 MB/s eta 0:00:22\n",
      "   ----------------------- ---------------- 73.9/124.9 MB 2.4 MB/s eta 0:00:22\n",
      "   ----------------------- ---------------- 74.7/124.9 MB 2.4 MB/s eta 0:00:21\n",
      "   ------------------------ --------------- 75.5/124.9 MB 2.4 MB/s eta 0:00:21\n",
      "   ------------------------ --------------- 75.8/124.9 MB 2.4 MB/s eta 0:00:21\n",
      "   ------------------------ --------------- 76.0/124.9 MB 2.4 MB/s eta 0:00:21\n",
      "   ------------------------ --------------- 76.3/124.9 MB 2.4 MB/s eta 0:00:21\n",
      "   ------------------------ --------------- 76.5/124.9 MB 2.4 MB/s eta 0:00:21\n",
      "   ------------------------ --------------- 77.1/124.9 MB 2.4 MB/s eta 0:00:20\n",
      "   ------------------------ --------------- 77.3/124.9 MB 2.4 MB/s eta 0:00:20\n",
      "   ------------------------ --------------- 77.3/124.9 MB 2.4 MB/s eta 0:00:20\n",
      "   ------------------------- -------------- 78.1/124.9 MB 2.4 MB/s eta 0:00:20\n",
      "   ------------------------- -------------- 79.2/124.9 MB 2.4 MB/s eta 0:00:20\n",
      "   ------------------------- -------------- 80.2/124.9 MB 2.4 MB/s eta 0:00:19\n",
      "   ------------------------- -------------- 81.0/124.9 MB 2.4 MB/s eta 0:00:18\n",
      "   -------------------------- ------------- 81.5/124.9 MB 2.5 MB/s eta 0:00:18\n",
      "   -------------------------- ------------- 81.5/124.9 MB 2.5 MB/s eta 0:00:18\n",
      "   -------------------------- ------------- 82.1/124.9 MB 2.4 MB/s eta 0:00:18\n",
      "   -------------------------- ------------- 82.6/124.9 MB 2.4 MB/s eta 0:00:18\n",
      "   -------------------------- ------------- 83.9/124.9 MB 2.4 MB/s eta 0:00:17\n",
      "   -------------------------- ------------- 84.1/124.9 MB 2.4 MB/s eta 0:00:17\n",
      "   --------------------------- ------------ 84.4/124.9 MB 2.4 MB/s eta 0:00:17\n",
      "   --------------------------- ------------ 84.4/124.9 MB 2.4 MB/s eta 0:00:17\n",
      "   --------------------------- ------------ 84.4/124.9 MB 2.4 MB/s eta 0:00:17\n",
      "   --------------------------- ------------ 84.4/124.9 MB 2.4 MB/s eta 0:00:17\n",
      "   --------------------------- ------------ 84.4/124.9 MB 2.4 MB/s eta 0:00:17\n",
      "   --------------------------- ------------ 84.4/124.9 MB 2.4 MB/s eta 0:00:17\n",
      "   --------------------------- ------------ 84.4/124.9 MB 2.4 MB/s eta 0:00:17\n",
      "   --------------------------- ------------ 84.4/124.9 MB 2.4 MB/s eta 0:00:17\n",
      "   --------------------------- ------------ 84.9/124.9 MB 2.2 MB/s eta 0:00:18\n",
      "   --------------------------- ------------ 84.9/124.9 MB 2.2 MB/s eta 0:00:18\n",
      "   --------------------------- ------------ 85.5/124.9 MB 2.2 MB/s eta 0:00:18\n",
      "   --------------------------- ------------ 86.0/124.9 MB 2.2 MB/s eta 0:00:18\n",
      "   --------------------------- ------------ 86.8/124.9 MB 2.2 MB/s eta 0:00:18\n",
      "   --------------------------- ------------ 87.0/124.9 MB 2.2 MB/s eta 0:00:18\n",
      "   ---------------------------- ----------- 88.1/124.9 MB 2.2 MB/s eta 0:00:17\n",
      "   ---------------------------- ----------- 88.1/124.9 MB 2.2 MB/s eta 0:00:17\n",
      "   ---------------------------- ----------- 88.1/124.9 MB 2.2 MB/s eta 0:00:17\n",
      "   ---------------------------- ----------- 88.3/124.9 MB 2.2 MB/s eta 0:00:17\n",
      "   ---------------------------- ----------- 88.3/124.9 MB 2.2 MB/s eta 0:00:17\n",
      "   ---------------------------- ----------- 88.9/124.9 MB 2.2 MB/s eta 0:00:17\n",
      "   ---------------------------- ----------- 89.4/124.9 MB 2.2 MB/s eta 0:00:17\n",
      "   ---------------------------- ----------- 90.2/124.9 MB 2.2 MB/s eta 0:00:16\n",
      "   ----------------------------- ---------- 91.0/124.9 MB 2.2 MB/s eta 0:00:16\n",
      "   ----------------------------- ---------- 91.8/124.9 MB 2.2 MB/s eta 0:00:16\n",
      "   ----------------------------- ---------- 92.5/124.9 MB 2.2 MB/s eta 0:00:15\n",
      "   ----------------------------- ---------- 93.3/124.9 MB 2.2 MB/s eta 0:00:15\n",
      "   ------------------------------ --------- 94.1/124.9 MB 2.2 MB/s eta 0:00:14\n",
      "   ------------------------------ --------- 94.9/124.9 MB 2.2 MB/s eta 0:00:14\n",
      "   ------------------------------ --------- 95.7/124.9 MB 2.2 MB/s eta 0:00:14\n",
      "   ------------------------------ --------- 95.9/124.9 MB 2.2 MB/s eta 0:00:13\n",
      "   ------------------------------ --------- 96.2/124.9 MB 2.2 MB/s eta 0:00:13\n",
      "   ------------------------------ --------- 96.2/124.9 MB 2.2 MB/s eta 0:00:13\n",
      "   ------------------------------ --------- 96.2/124.9 MB 2.2 MB/s eta 0:00:13\n",
      "   ------------------------------- -------- 97.3/124.9 MB 2.2 MB/s eta 0:00:13\n",
      "   ------------------------------- -------- 98.0/124.9 MB 2.3 MB/s eta 0:00:12\n",
      "   ------------------------------- -------- 98.8/124.9 MB 2.3 MB/s eta 0:00:12\n",
      "   ------------------------------- -------- 99.4/124.9 MB 2.3 MB/s eta 0:00:12\n",
      "   ------------------------------- -------- 99.9/124.9 MB 2.2 MB/s eta 0:00:12\n",
      "   -------------------------------- ------- 100.9/124.9 MB 2.3 MB/s eta 0:00:11\n",
      "   -------------------------------- ------- 102.0/124.9 MB 2.3 MB/s eta 0:00:11\n",
      "   -------------------------------- ------- 102.8/124.9 MB 2.3 MB/s eta 0:00:10\n",
      "   -------------------------------- ------- 103.0/124.9 MB 2.3 MB/s eta 0:00:10\n",
      "   -------------------------------- ------- 103.0/124.9 MB 2.3 MB/s eta 0:00:10\n",
      "   --------------------------------- ------ 103.5/124.9 MB 2.3 MB/s eta 0:00:10\n",
      "   --------------------------------- ------ 103.8/124.9 MB 2.3 MB/s eta 0:00:10\n",
      "   --------------------------------- ------ 104.1/124.9 MB 2.3 MB/s eta 0:00:10\n",
      "   --------------------------------- ------ 104.9/124.9 MB 2.3 MB/s eta 0:00:09\n",
      "   --------------------------------- ------ 105.4/124.9 MB 2.3 MB/s eta 0:00:09\n",
      "   --------------------------------- ------ 105.4/124.9 MB 2.3 MB/s eta 0:00:09\n",
      "   --------------------------------- ------ 105.6/124.9 MB 2.3 MB/s eta 0:00:09\n",
      "   --------------------------------- ------ 105.9/124.9 MB 2.3 MB/s eta 0:00:09\n",
      "   ---------------------------------- ----- 106.7/124.9 MB 2.3 MB/s eta 0:00:09\n",
      "   ---------------------------------- ----- 107.5/124.9 MB 2.3 MB/s eta 0:00:08\n",
      "   ---------------------------------- ----- 108.3/124.9 MB 2.3 MB/s eta 0:00:08\n",
      "   ---------------------------------- ----- 109.1/124.9 MB 2.3 MB/s eta 0:00:07\n",
      "   ---------------------------------- ----- 109.1/124.9 MB 2.3 MB/s eta 0:00:07\n",
      "   ----------------------------------- ---- 109.3/124.9 MB 2.3 MB/s eta 0:00:07\n",
      "   ----------------------------------- ---- 109.8/124.9 MB 2.3 MB/s eta 0:00:07\n",
      "   ----------------------------------- ---- 110.6/124.9 MB 2.3 MB/s eta 0:00:07\n",
      "   ----------------------------------- ---- 111.1/124.9 MB 2.3 MB/s eta 0:00:07\n",
      "   ----------------------------------- ---- 111.1/124.9 MB 2.3 MB/s eta 0:00:07\n",
      "   ----------------------------------- ---- 111.7/124.9 MB 2.3 MB/s eta 0:00:06\n",
      "   ----------------------------------- ---- 112.2/124.9 MB 2.3 MB/s eta 0:00:06\n",
      "   ------------------------------------ --- 113.2/124.9 MB 2.3 MB/s eta 0:00:06\n",
      "   ------------------------------------ --- 113.2/124.9 MB 2.3 MB/s eta 0:00:06\n",
      "   ------------------------------------ --- 113.2/124.9 MB 2.3 MB/s eta 0:00:06\n",
      "   ------------------------------------ --- 113.2/124.9 MB 2.3 MB/s eta 0:00:06\n",
      "   ------------------------------------ --- 114.3/124.9 MB 2.3 MB/s eta 0:00:05\n",
      "   ------------------------------------ --- 114.8/124.9 MB 2.3 MB/s eta 0:00:05\n",
      "   ------------------------------------- -- 116.1/124.9 MB 2.3 MB/s eta 0:00:04\n",
      "   ------------------------------------- -- 116.9/124.9 MB 2.3 MB/s eta 0:00:04\n",
      "   ------------------------------------- -- 116.9/124.9 MB 2.3 MB/s eta 0:00:04\n",
      "   ------------------------------------- -- 116.9/124.9 MB 2.3 MB/s eta 0:00:04\n",
      "   ------------------------------------- -- 117.2/124.9 MB 2.3 MB/s eta 0:00:04\n",
      "   ------------------------------------- -- 117.7/124.9 MB 2.3 MB/s eta 0:00:04\n",
      "   ------------------------------------- -- 118.2/124.9 MB 2.3 MB/s eta 0:00:03\n",
      "   -------------------------------------- - 119.8/124.9 MB 2.3 MB/s eta 0:00:03\n",
      "   -------------------------------------- - 120.3/124.9 MB 2.3 MB/s eta 0:00:02\n",
      "   -------------------------------------- - 120.6/124.9 MB 2.3 MB/s eta 0:00:02\n",
      "   -------------------------------------- - 120.8/124.9 MB 2.3 MB/s eta 0:00:02\n",
      "   -------------------------------------- - 121.4/124.9 MB 2.3 MB/s eta 0:00:02\n",
      "   ---------------------------------------  121.9/124.9 MB 2.3 MB/s eta 0:00:02\n",
      "   ---------------------------------------  122.9/124.9 MB 2.3 MB/s eta 0:00:01\n",
      "   ---------------------------------------  123.7/124.9 MB 2.4 MB/s eta 0:00:01\n",
      "   ---------------------------------------  124.5/124.9 MB 2.4 MB/s eta 0:00:01\n",
      "   ---------------------------------------  124.8/124.9 MB 2.4 MB/s eta 0:00:01\n",
      "   ---------------------------------------  124.8/124.9 MB 2.4 MB/s eta 0:00:01\n",
      "   ---------------------------------------  124.8/124.9 MB 2.4 MB/s eta 0:00:01\n",
      "   ---------------------------------------  124.8/124.9 MB 2.4 MB/s eta 0:00:01\n",
      "   ---------------------------------------- 124.9/124.9 MB 2.3 MB/s eta 0:00:00\n",
      "Installing collected packages: xgboost\n",
      "Successfully installed xgboost-2.1.1\n"
     ]
    },
    {
     "data": {
      "text/plain": [
       "{'Max_depth': 3, 'gamma': 1, 'n_estimators': 20}"
      ]
     },
     "execution_count": 89,
     "metadata": {},
     "output_type": "execute_result"
    }
   ],
   "source": [
    "!pip install xgboost\n",
    "from xgboost import XGBClassifier\n",
    "from sklearn.model_selection import GridSearchCV\n",
    "estimator=XGBClassifier(random_state=7)\n",
    "param_grid={\"n_estimators\":[10,20,40,60],\"Max_depth\":[3,4,5],\"gamma\":[0,0.15,0.30,0.45,1]}\n",
    "model=GridSearchCV(estimator,param_grid,cv=5,scoring=\"accuracy\")\n",
    "model.fit(x_train,y_train)\n",
    "model.best_params_"
   ]
  },
  {
   "cell_type": "markdown",
   "metadata": {},
   "source": [
    "**Modelling**"
   ]
  },
  {
   "cell_type": "code",
   "execution_count": 90,
   "metadata": {
    "execution": {
     "iopub.execute_input": "2024-05-19T14:56:04.348275Z",
     "iopub.status.busy": "2024-05-19T14:56:04.347807Z",
     "iopub.status.idle": "2024-05-19T14:56:04.768068Z",
     "shell.execute_reply": "2024-05-19T14:56:04.766964Z",
     "shell.execute_reply.started": "2024-05-19T14:56:04.348242Z"
    }
   },
   "outputs": [
    {
     "name": "stdout",
     "output_type": "stream",
     "text": [
      "train_accuracy 0.49731182795698925\n",
      "test_accuracy 0.48246844319775595\n",
      "CV 0.4762733713137095\n"
     ]
    }
   ],
   "source": [
    "xgb=XGBClassifier(max_depth=3,gamma=1,n_estimators=20)\n",
    "xgb.fit(x_train,y_train)\n",
    "\n",
    "ŷ_train=xgb.predict(x_train)\n",
    "ŷ_test=xgb.predict(x_test)\n",
    "\n",
    "from sklearn.metrics import accuracy_score\n",
    "from sklearn.model_selection import cross_val_score\n",
    "print(\"train_accuracy\",accuracy_score(y_train,ŷ_train))\n",
    "print(\"test_accuracy\",accuracy_score(y_test,ŷ_test))\n",
    "print(\"CV\",cross_val_score(xgb,x_train,y_train,cv=5,scoring=\"accuracy\").mean())"
   ]
  },
  {
   "cell_type": "markdown",
   "metadata": {},
   "source": [
    "**Confision matrix**"
   ]
  },
  {
   "cell_type": "code",
   "execution_count": 91,
   "metadata": {
    "execution": {
     "iopub.execute_input": "2024-05-19T14:56:34.409915Z",
     "iopub.status.busy": "2024-05-19T14:56:34.409503Z",
     "iopub.status.idle": "2024-05-19T14:56:34.419853Z",
     "shell.execute_reply": "2024-05-19T14:56:34.418715Z",
     "shell.execute_reply.started": "2024-05-19T14:56:34.409886Z"
    }
   },
   "outputs": [
    {
     "data": {
      "text/plain": [
       "array([[265,  71, 105, 143],\n",
       "       [162, 109, 144,  75],\n",
       "       [ 90,  59, 265,  58],\n",
       "       [137,  28,  35, 393]], dtype=int64)"
      ]
     },
     "execution_count": 91,
     "metadata": {},
     "output_type": "execute_result"
    }
   ],
   "source": [
    "cm=confusion_matrix(y_test,ŷ_test)\n",
    "cm"
   ]
  },
  {
   "cell_type": "code",
   "execution_count": 92,
   "metadata": {
    "execution": {
     "iopub.execute_input": "2024-05-19T14:56:34.858397Z",
     "iopub.status.busy": "2024-05-19T14:56:34.858027Z",
     "iopub.status.idle": "2024-05-19T14:56:35.167465Z",
     "shell.execute_reply": "2024-05-19T14:56:35.166263Z",
     "shell.execute_reply.started": "2024-05-19T14:56:34.858371Z"
    }
   },
   "outputs": [
    {
     "data": {
      "image/png": "[encoded data removed]",
      "text/plain": [
       "<Figure size 640x480 with 2 Axes>"
      ]
     },
     "metadata": {},
     "output_type": "display_data"
    }
   ],
   "source": [
    "ConfusionMatrixDisplay(cm).plot()\n",
    "plt.show()"
   ]
  },
  {
   "cell_type": "code",
   "execution_count": 93,
   "metadata": {
    "execution": {
     "iopub.execute_input": "2024-05-19T14:56:35.402924Z",
     "iopub.status.busy": "2024-05-19T14:56:35.401776Z",
     "iopub.status.idle": "2024-05-19T14:56:35.420833Z",
     "shell.execute_reply": "2024-05-19T14:56:35.419621Z",
     "shell.execute_reply.started": "2024-05-19T14:56:35.402874Z"
    }
   },
   "outputs": [
    {
     "name": "stdout",
     "output_type": "stream",
     "text": [
      "              precision    recall  f1-score   support\n",
      "\n",
      "           0       0.41      0.45      0.43       584\n",
      "           1       0.41      0.22      0.29       490\n",
      "           2       0.48      0.56      0.52       472\n",
      "           3       0.59      0.66      0.62       593\n",
      "\n",
      "    accuracy                           0.48      2139\n",
      "   macro avg       0.47      0.48      0.46      2139\n",
      "weighted avg       0.47      0.48      0.47      2139\n",
      "\n"
     ]
    }
   ],
   "source": [
    "print(classification_report(y_test,ŷ_test))"
   ]
  },
  {
   "cell_type": "code",
   "execution_count": null,
   "metadata": {},
   "outputs": [],
   "source": []
  }
 ],
 "metadata": {
  "kaggle": {
   "accelerator": "none",
   "dataSources": [
    {
     "datasetId": 841888,
     "sourceId": 6460700,
     "sourceType": "datasetVersion"
    }
   ],
   "dockerImageVersionId": 30698,
   "isGpuEnabled": false,
   "isInternetEnabled": false,
   "language": "python",
   "sourceType": "notebook"
  },
  "kernelspec": {
   "display_name": "Python 3 (ipykernel)",
   "language": "python",
   "name": "python3"
  },
  "language_info": {
   "codemirror_mode": {
    "name": "ipython",
    "version": 3
   },
   "file_extension": ".py",
   "mimetype": "text/x-python",
   "name": "python",
   "nbconvert_exporter": "python",
   "pygments_lexer": "ipython3",
   "version": "3.11.4"
  }
 },
 "nbformat": 4,
 "nbformat_minor": 4
}
